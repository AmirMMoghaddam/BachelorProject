{
  "nbformat": 4,
  "nbformat_minor": 0,
  "metadata": {
    "colab": {
      "provenance": []
    },
    "kernelspec": {
      "name": "python3",
      "display_name": "Python 3"
    },
    "language_info": {
      "name": "python"
    }
  },
  "cells": [
    {
      "cell_type": "code",
      "execution_count": null,
      "metadata": {
        "id": "BlLRX5wEglE_"
      },
      "outputs": [],
      "source": [
        "pip install qiskit qiskit_aer"
      ]
    },
    {
      "cell_type": "markdown",
      "source": [
        "\n",
        "\n",
        "---\n",
        "# Imports\n",
        "\n",
        "\n",
        "---\n",
        "\n"
      ],
      "metadata": {
        "id": "_k4jJ1aLGnDp"
      }
    },
    {
      "cell_type": "code",
      "source": [
        "from qiskit import QuantumRegister, ClassicalRegister, QuantumCircuit\n",
        "from qiskit.visualization import *\n",
        "from numpy import pi\n",
        "import numpy as np\n",
        "from qiskit_aer import Aer\n",
        "from qiskit import transpile\n",
        "import random\n",
        "import matplotlib.pyplot as plt"
      ],
      "metadata": {
        "id": "tVcp0FJtg3LN"
      },
      "execution_count": 2,
      "outputs": []
    },
    {
      "cell_type": "markdown",
      "source": [
        "\n",
        "\n",
        "---\n",
        "\n",
        "# Variable Definition\n",
        "\n",
        "---\n",
        "\n"
      ],
      "metadata": {
        "id": "E14hXuW5GuGf"
      }
    },
    {
      "cell_type": "code",
      "source": [
        "#A function for generating a random sequense\n",
        "def generate_random_sequence(length):\n",
        "    return [random.randint(0, 1) for _ in range(length)]\n",
        "#The length of the sequence\n",
        "length=64\n",
        "BitSequence= generate_random_sequence(length)\n",
        "AliceBases = generate_random_sequence(length)\n",
        "BobBases = generate_random_sequence(length)\n",
        "EveBases = generate_random_sequence(length)\n",
        "theta_degrees = 25.84193276 # Example value of theta in degrees\n",
        "theta_radians = np.radians(theta_degrees)  # Convert degrees to radians"
      ],
      "metadata": {
        "id": "biLyD6yxhP2a"
      },
      "execution_count": 10,
      "outputs": []
    },
    {
      "cell_type": "markdown",
      "source": [
        "\n",
        "\n",
        "---\n",
        "\n",
        "# Noise And Error Correction\n",
        "\n",
        "---\n",
        "\n"
      ],
      "metadata": {
        "id": "n8HFk_zvG3R-"
      }
    },
    {
      "cell_type": "code",
      "source": [
        "# --- All Noise Related Functions ---\n",
        "def generate_random_angle():\n",
        "    # Generate a random number from a Gaussian distribution\n",
        "    # Parameters\n",
        "    mu = 0  # Mean of the Gaussian distribution\n",
        "    sigma = 0.15 # Standard deviation of the Gaussian distribution\n",
        "    while True:\n",
        "        angle = np.random.normal(mu, sigma)\n",
        "        if -np.pi <= angle <= np.pi:\n",
        "            break\n",
        "    return angle\n",
        "def generate_custom_random():\n",
        "    # Define the probabilities for each number\n",
        "    probabilities = [1/25**i for i in range(1, 9)]\n",
        "\n",
        "    # Normalize probabilities to sum to 1\n",
        "    probabilities = [p / sum(probabilities) for p in probabilities]\n",
        "\n",
        "    # Generate a random integer using the defined probabilities\n",
        "    return np.random.choice(np.arange(1, 9), p=probabilities)\n",
        "def TarqetNoise(number):\n",
        "  if number == 1:\n",
        "    return [8];\n",
        "  elif number == 2:\n",
        "    return [8,3]\n",
        "  else:\n",
        "    return [8,0,3]\n",
        "def BitNoise(cir):\n",
        "    for i in TarqetNoise(generate_custom_random()):\n",
        "      cir.rx(np.radians(10),i)\n",
        "    return cir\n",
        "def PhaseNoise(cir):\n",
        "    for i in TarqetNoise(generate_custom_random()):\n",
        "      cir.rz(np.radians(10),i)\n",
        "    return cir\n",
        "#This function uses one Logical qubit to encode 8 other qubits so that we can use it for bit and phase flip encoding\n",
        "def Encoding(cir):\n",
        "    # Phase- flip\n",
        "    cir.cx(8,5)\n",
        "    cir.cx(8,2)\n",
        "    cir.h(2)\n",
        "    cir.h(5)\n",
        "    cir.h(8)\n",
        "    #Bit-flip\n",
        "    cir.cx(8,6)\n",
        "    cir.cx(8,7)\n",
        "    cir.cx(5,3)\n",
        "    cir.cx(5,4)\n",
        "    cir.cx(2,0)\n",
        "    cir.cx(2,1)\n",
        "    return cir\n",
        "#This function Decodes the qubits so it can be used again\n",
        "def Decoding(cir):\n",
        "    #Bit-flip\n",
        "    cir.cx(8,6)\n",
        "    cir.cx(8,7)\n",
        "    cir.cx(5,3)\n",
        "    cir.cx(5,4)\n",
        "    cir.cx(2,0)\n",
        "    cir.cx(2,1)\n",
        "    #Phase-flip\n",
        "    cir.h(2)\n",
        "    cir.h(5)\n",
        "    cir.h(8)\n",
        "    cir.cx(8,5)\n",
        "    cir.cx(8,2)\n",
        "    return cir\n",
        "#Its time for bit flip for that we use a parity check function\n",
        "def BitParityCheck(cir,SQubit,AuxQubit):\n",
        "    cir.cx(SQubit,AuxQubit)\n",
        "    cir.cx(SQubit+1,AuxQubit)\n",
        "    cir.cx(SQubit+1,AuxQubit+1)\n",
        "    cir.cx(SQubit+2,AuxQubit+1)\n",
        "    return cir\n",
        "#And We need a CorrectionBlock\n",
        "def BitCorrectionBlock(cir,SQubit,AuxQubit):\n",
        "    cir.x(AuxQubit)\n",
        "    cir.ccx(AuxQubit+1,AuxQubit,SQubit+2)\n",
        "    cir.x(AuxQubit)\n",
        "    cir.ccx(AuxQubit+1,AuxQubit,SQubit+1)\n",
        "    cir.x(AuxQubit+1)\n",
        "    cir.ccx(AuxQubit+1,AuxQubit,SQubit)\n",
        "    cir.x(AuxQubit+1)\n",
        "    cir.measure(AuxQubit,AuxQubit)\n",
        "    cir.measure(AuxQubit+1,AuxQubit+1)\n",
        "    cir.reset(AuxQubit)\n",
        "    cir.reset(AuxQubit+1)\n",
        "    return cir\n",
        "#Now bringing it all toghether we construct the Error Correction function\n",
        "def BitErrorCorrection(cir,AuxQubit):\n",
        "    for i in range(3):\n",
        "        cir = BitParityCheck(cir,i*3,AuxQubit)\n",
        "        cir.barrier()\n",
        "        cir = BitCorrectionBlock(cir,i*3,AuxQubit)\n",
        "    return cir\n",
        "def PhaseParityCheck(cir,AuxQubit):\n",
        "    #Storing the data in Q8,5,2\n",
        "    cir.cx(8,6)\n",
        "    cir.cx(8,7)\n",
        "    cir.cx(5,3)\n",
        "    cir.cx(5,4)\n",
        "    cir.cx(2,0)\n",
        "    cir.cx(2,1)\n",
        "    cir.h(2)\n",
        "    cir.h(5)\n",
        "    cir.h(8)\n",
        "    #Getting the parity stored in the Aux Qubits\n",
        "    cir.cx(2,AuxQubit)\n",
        "    cir.cx(5,AuxQubit)\n",
        "    cir.cx(5,AuxQubit+1)\n",
        "    cir.cx(8,AuxQubit+1)\n",
        "    #restoring the Encoded Form\n",
        "    cir.h(2)\n",
        "    cir.h(5)\n",
        "    cir.h(8)\n",
        "    cir.cx(8,6)\n",
        "    cir.cx(8,7)\n",
        "    cir.cx(5,3)\n",
        "    cir.cx(5,4)\n",
        "    cir.cx(2,0)\n",
        "    cir.cx(2,1)\n",
        "    return cir\n",
        "def PhaseCorrectionBlock(cir,AuxQubit):\n",
        "    cir.x(AuxQubit)\n",
        "    cir.ccz(AuxQubit+1,AuxQubit,8)\n",
        "    cir.x(AuxQubit)\n",
        "    cir.ccz(AuxQubit+1,AuxQubit,5)\n",
        "    cir.x(AuxQubit+1)\n",
        "    cir.ccz(AuxQubit+1,AuxQubit,2)\n",
        "    cir.x(AuxQubit+1)\n",
        "    cir.measure(AuxQubit,AuxQubit)\n",
        "    cir.measure(AuxQubit+1,AuxQubit+1)\n",
        "    cir.reset(AuxQubit)\n",
        "    cir.reset(AuxQubit+1)\n",
        "    return cir\n",
        "def PhaseErrorCorrection(cir,AuxQubit):\n",
        "    cir = PhaseParityCheck(cir,AuxQubit)\n",
        "    cir.barrier()\n",
        "    cir = PhaseCorrectionBlock(cir,AuxQubit)\n",
        "    return cir"
      ],
      "metadata": {
        "id": "ToNrjto2hUum"
      },
      "execution_count": 7,
      "outputs": []
    },
    {
      "cell_type": "markdown",
      "source": [
        "\n",
        "\n",
        "---\n",
        "\n",
        "# BB84 functions\n",
        "\n",
        "---\n",
        "\n"
      ],
      "metadata": {
        "id": "GZY8egzgHAvG"
      }
    },
    {
      "cell_type": "code",
      "source": [
        "# ---- All the functions that provide a noise-less BB84 Protocol with Alligment Error ----\n",
        "\n",
        "def AlligmentError(cir,bit,basis,theta_radians):\n",
        "#This is gettingready but with Alligment error\n",
        "  cir.ry(theta_radians,8)\n",
        "  if bit == 1:\n",
        "    cir.x(8)\n",
        "  if basis == 1:\n",
        "    cir.h(8)\n",
        "  return cir\n",
        "def GettingReady(cir,bit,basis):\n",
        "    if bit == 1:\n",
        "        print(\"bit is 1\")\n",
        "        cir.x(8)\n",
        "    if basis == 1:\n",
        "        print(\"base is +-45\")\n",
        "        cir.h(8)\n",
        "    return cir\n",
        "def MeasureSinglePhoton(cir):\n",
        "    # Use Aer's qasm_simulator\n",
        "    simulator = Aer.get_backend('qasm_simulator')\n",
        "    # Execute the circuit on the qasm simulator\n",
        "    new_circuit = transpile(cir, simulator)\n",
        "    job = simulator.run(new_circuit, shots = 1)\n",
        "    # Grab results from the job\n",
        "    result = job.result()\n",
        "    # Return counts\n",
        "    counts = result.get_counts(cir)\n",
        "    return counts\n",
        "def ExctarctKey(Checked_List):\n",
        "  length = len(Checked_List)\n",
        "  result = []\n",
        "  for d in Checked_List:\n",
        "      new_d = {}\n",
        "      for key, value in d.items():\n",
        "          third_bit = key[2]  # Extract the third bit from the left\n",
        "          new_d[third_bit] = value\n",
        "      result.append(new_d)\n",
        "  output_string = \"\"\n",
        "  for d in result:\n",
        "    key = list(d.keys())[0]  # Extract the key from the dictionary\n",
        "    output_string += key\n",
        "  return output_string\n",
        "def SendSinglePhoton(cir,BNoise,PNoise):\n",
        "    cir = Encoding(cir)\n",
        "    if BNoise:\n",
        "      cir = BitNoise(cir)\n",
        "      cir = BitErrorCorrection(cir,9)\n",
        "    if PNoise:\n",
        "      cir = PhaseNoise(cir)\n",
        "      cir = PhaseCorrectionBlock(cir,9)\n",
        "    return cir\n",
        "def ReciviengSinglePhoton(cir,BobBasis):\n",
        "    cir = Decoding(cir)\n",
        "    #print(\"Bob Basis is : \", BobBasis)\n",
        "    if BobBasis == 1:\n",
        "        #print(\"Bob Basis is +-45\")\n",
        "        cir.h(8)\n",
        "    cir.barrier()\n",
        "    cir.measure([0,1,2,3,4,5,6,7,8,9,10],[0,1,2,3,4,5,6,7,8,9,10])\n",
        "    return cir\n",
        "def BB84(BitSequence,AliceBases,BobBases,EveBases,length,theta_radians,Eve):\n",
        "   ListOfCounts = []\n",
        "   EveListOfCounts = []\n",
        "   if Eve==True:\n",
        "    for i in range(length):\n",
        "        circuit = QuantumCircuit(11,11)\n",
        "        #Getting that one photon with Alice's Basis ready to send\n",
        "        circuit = AlligmentError(circuit,BitSequence[i],AliceBases[i],2*theta_radians)\n",
        "        #Sending Single photon\n",
        "        circuit = SendSinglePhoton(circuit,False,False)\n",
        "        #Recive Single Photon\n",
        "        circuit = ReciviengSinglePhoton(circuit,EveBases[i])\n",
        "        #Measure one Photon with Bob Basis\n",
        "        counts = MeasureSinglePhoton(circuit)\n",
        "        EveListOfCounts.append(counts)\n",
        "        del circuit\n",
        "    output_string = ExctarctKey(EveListOfCounts)\n",
        "    list_from_Key = [int(char) for char in output_string]\n",
        "    ListOfCounts = []\n",
        "    for i in range(length):\n",
        "        #print(\"for bit number : \", i)\n",
        "        circuit = QuantumCircuit(11,11)\n",
        "        #Getting that one photon with Alice's Basis ready to send\n",
        "        circuit = AlligmentError(circuit,list_from_Key[i],EveBases[i],2*theta_radians)\n",
        "        #circuit = GettingReady(circuit,BitSequence[i],AliceBases[i])\n",
        "        #Sending Single photon\n",
        "        circuit = SendSinglePhoton(circuit,False,False)\n",
        "        #Recive Single Photon\n",
        "        circuit = ReciviengSinglePhoton(circuit,BobBases[i])\n",
        "        #Measure one Photon with Bob Basis\n",
        "        counts = MeasureSinglePhoton(circuit)\n",
        "        ListOfCounts.append(counts)\n",
        "        #print(\"-----------\")\n",
        "        del circuit\n",
        "    Check_list = []\n",
        "    EveCheck_list = []\n",
        "    for i in range(len(ListOfCounts)):\n",
        "        if AliceBases[i] == BobBases[i]:\n",
        "            Check_list.append(ListOfCounts[i])\n",
        "            EveCheck_list.append(EveListOfCounts[i])\n",
        "    #print(\"The Bases checked list is : \",Check_list)\n",
        "    output_string= ExctarctKey(Check_list)\n",
        "    Eveoutput_string= ExctarctKey(EveCheck_list)\n",
        "    return  output_string , Eveoutput_string\n",
        "   else:\n",
        "    for i in range(length):\n",
        "        #print(\"for bit number : \", i)\n",
        "        circuit = QuantumCircuit(11,11)\n",
        "        #Getting that one photon with Alice's Basis ready to send\n",
        "        circuit = AlligmentError(circuit,BitSequence[i],AliceBases[i],2*theta_radians)\n",
        "        #circuit = GettingReady(circuit,BitSequence[i],AliceBases[i])\n",
        "        #Sending Single photon\n",
        "        circuit = SendSinglePhoton(circuit,False,False)\n",
        "        #Recive Single Photon\n",
        "        circuit = ReciviengSinglePhoton(circuit,BobBases[i])\n",
        "        #Measure one Photon with Bob Basis\n",
        "        counts = MeasureSinglePhoton(circuit)\n",
        "        ListOfCounts.append(counts)\n",
        "        #print(\"-----------\")\n",
        "        del circuit\n",
        "    #Now Alice and Bob share their Bases\n",
        "    #print(\"Raw List of count is : \",ListOfCounts)\n",
        "    Check_list = []\n",
        "    for i in range(len(ListOfCounts)):\n",
        "        if AliceBases[i] == BobBases[i]:\n",
        "            Check_list.append(ListOfCounts[i])\n",
        "    #print(\"The Bases checked list is : \",Check_list)\n",
        "    output_string= ExctarctKey(Check_list)\n",
        "    return  output_string\n",
        "#Alice And Bob Share Some of their Key to check the Seciruty\n",
        "def CheckSecurity(Key,Akey,Checklength):\n",
        "    if Akey[-Checklength:] == Key[-Checklength:]:\n",
        "        print(\"The Connection is Secure with the probability of:\")\n",
        "        print((1-((3/4)**Checklength))*100)\n",
        "    else:\n",
        "        print(\"The Connection is not Secure!\")\n",
        "def AliceKey(Bit,AliceBases,BobBases):\n",
        "    Check_list = []\n",
        "    for i in range(len(Bit)):\n",
        "        if AliceBases[i] == BobBases[i]:\n",
        "            Check_list.append(Bit[i])\n",
        "        Key = ''\n",
        "    for item in Check_list:\n",
        "        Key = Key + str(item)\n",
        "    return Key"
      ],
      "metadata": {
        "id": "1fhYGlKAhrCF"
      },
      "execution_count": 4,
      "outputs": []
    },
    {
      "cell_type": "markdown",
      "source": [
        "\n",
        "\n",
        "---\n",
        "\n",
        "# Basic Results\n",
        "\n",
        "---\n",
        "\n"
      ],
      "metadata": {
        "id": "xIIeO2QDHJSe"
      }
    },
    {
      "cell_type": "code",
      "source": [
        "Key = BB84(BitSequence,AliceBases,BobBases,EveBases,length,theta_radians,False)\n",
        "print(\"your Key is :\")\n",
        "print(Key)\n",
        "alicekey = AliceKey(BitSequence,AliceBases,BobBases)\n",
        "print(\"Alice's Key is :\")\n",
        "print(alicekey)\n",
        "CheckSecurity(Key,alicekey,15)\n"
      ],
      "metadata": {
        "id": "m5fDZ4jWivOn",
        "colab": {
          "base_uri": "https://localhost:8080/"
        },
        "outputId": "8d79dc14-8e6d-4168-f569-a5f60a7c771b"
      },
      "execution_count": 8,
      "outputs": [
        {
          "output_type": "stream",
          "name": "stdout",
          "text": [
            "your Key is :\n",
            "01110100011000101100100011001100101001101000110110000010100101011011\n",
            "Alice's Key is :\n",
            "01100100010001000101001011101100100000101100110101101001100101001111\n",
            "The Connection is not Secure!\n"
          ]
        }
      ]
    },
    {
      "cell_type": "code",
      "source": [
        "Key2,EveKey =BB84(BitSequence,AliceBases,BobBases,EveBases,length,0,True)\n",
        "print(\"your Key is :\")\n",
        "print(Key2)\n",
        "print(\"Eve's Key is :\")\n",
        "print(EveKey)\n",
        "print(\"Alice's Key is :\")\n",
        "print(alicekey)\n",
        "CheckSecurity(Key2,alicekey,15)\n",
        "CheckSecurity(EveKey,Key2,15)"
      ],
      "metadata": {
        "id": "6m8Xe-GfjIBp",
        "colab": {
          "base_uri": "https://localhost:8080/"
        },
        "outputId": "09db32b5-2d97-4225-b383-275a3a9c07cc"
      },
      "execution_count": 9,
      "outputs": [
        {
          "output_type": "stream",
          "name": "stdout",
          "text": [
            "your Key is :\n",
            "01110101010010011101111010101100000010101100000001100000000100100011\n",
            "Eve's Key is :\n",
            "01010111010001010101111111001100111010101100011111100001001100001011\n",
            "Alice's Key is :\n",
            "01100100010001000101001011101100100000101100110101101001100101001111\n",
            "The Connection is not Secure!\n",
            "The Connection is not Secure!\n"
          ]
        }
      ]
    },
    {
      "cell_type": "markdown",
      "source": [
        "\n",
        "\n",
        "---\n",
        "\n",
        "# Error analysis\n",
        "\n",
        "---\n",
        "\n"
      ],
      "metadata": {
        "id": "PJ4Mnul6HdJF"
      }
    },
    {
      "cell_type": "code",
      "source": [
        "#This Functions are for analizing our results\n",
        "\n",
        "def calculate_error_rate(results, alicekey):\n",
        "    error_rates = []\n",
        "    sums = 0\n",
        "    results_length = len(results)\n",
        "    key_length = len(alicekey)\n",
        "\n",
        "    for result in results:\n",
        "        # Compare each character in the strings and count the number of differences\n",
        "        num_errors = sum(bit1 != bit2 for bit1, bit2 in zip(result, alicekey))\n",
        "        # Calculate the error rate\n",
        "        error_rate = num_errors / key_length\n",
        "        sums = sums + error_rate\n",
        "        error_rates.append(error_rate)\n",
        "\n",
        "    return max(error_rates) , sums/results_length"
      ],
      "metadata": {
        "id": "WCJj0bQ9k3Bd"
      },
      "execution_count": 11,
      "outputs": []
    },
    {
      "cell_type": "code",
      "source": [
        "aliceKey= AliceKey(BitSequence,AliceBases,BobBases)\n",
        "CleanResults = []\n",
        "ResultsWE = []\n",
        "EveResults = []\n",
        "CTResults = []\n",
        "CTResultsWE = []\n",
        "EveCTResults = []\n",
        "for _ in range(10):\n",
        "   # Without Eve and Allignment Error\n",
        "   result = BB84(BitSequence,AliceBases,BobBases,EveBases,length,0,False)\n",
        "   CleanResults.append(result)\n",
        "   #With Eve Without Allignment Error\n",
        "   resultWE, Everesult = BB84(BitSequence,AliceBases,BobBases,EveBases,length,0,True)\n",
        "   ResultsWE.append(resultWE)\n",
        "   EveResults.append(Everesult)\n",
        "   #With Allignment Error Witout Eve\n",
        "   CTresult = BB84(BitSequence,AliceBases,BobBases,EveBases,length,theta_radians,False)\n",
        "   CTResults.append(CTresult)\n",
        "   #With Eve and Allignment Error\n",
        "   CTresultWE, EveCTresult = BB84(BitSequence,AliceBases,BobBases,EveBases,length,theta_radians,True)\n",
        "   CTResultsWE.append(CTresultWE)\n",
        "   EveCTResults.append(EveCTresult)\n"
      ],
      "metadata": {
        "id": "1qNoMHsMKZ7d"
      },
      "execution_count": 12,
      "outputs": []
    },
    {
      "cell_type": "code",
      "source": [
        "CleanError_rates , CleanAverage = calculate_error_rate(CleanResults, aliceKey)\n",
        "Error_ratesWE , AverageWE = calculate_error_rate(ResultsWE, aliceKey)\n",
        "EveError_rates , EveAverage = calculate_error_rate(EveResults, aliceKey)\n",
        "CTError_rates , CTAverage = calculate_error_rate(CTResults, aliceKey)\n",
        "CTError_ratesWE , CTAverageWE = calculate_error_rate(CTResultsWE, aliceKey)\n",
        "EveCTError_rates , EveCTAverage = calculate_error_rate(EveCTResults, aliceKey)\n",
        "print(\"######Without Eve and Allignment Error######\")\n",
        "print(\"Max Error rate:\", CleanError_rates)\n",
        "print(\"Average of error : \", CleanAverage)\n",
        "print(\"\\n\\n######With Eve Without Allignment Error######\")\n",
        "print(\"Max Error rate:\", Error_ratesWE)\n",
        "print(\"Average of error : \", AverageWE)\n",
        "print(\"Eve's Max Error rate:\", EveError_rates)\n",
        "print(\"Eve's Average of error : \", EveAverage)\n",
        "print(\"\\n\\n#####Without Eve With Allignment Error#######\")\n",
        "print(\"Max Error rate:\", CTError_rates)\n",
        "print(\"Average of error : \", CTAverage)\n",
        "print(\"\\n\\n######With Eve and Allignment Error######\")\n",
        "print(\"Max Error rate:\", CTError_ratesWE)\n",
        "print(\"Average of error : \", CTAverageWE)\n",
        "print(\"Eve'sMax Error rate:\", EveCTError_rates)\n",
        "print(\"Eve's Average of error : \", EveCTAverage)"
      ],
      "metadata": {
        "colab": {
          "base_uri": "https://localhost:8080/"
        },
        "id": "H_q8ytlzVueA",
        "outputId": "bf46c616-c36b-4d99-b761-ad71ead729b0"
      },
      "execution_count": 13,
      "outputs": [
        {
          "output_type": "stream",
          "name": "stdout",
          "text": [
            "######Without Eve and Allignment Error######\n",
            "Max Error rate: 0.0\n",
            "Average of error :  0.0\n",
            "\n",
            "\n",
            "######With Eve Without Allignment Error######\n",
            "Max Error rate: 0.4166666666666667\n",
            "Average of error :  0.3166666666666667\n",
            "Eve's Max Error rate: 0.3611111111111111\n",
            "Eve's Average of error :  0.2722222222222222\n",
            "\n",
            "\n",
            "#####Without Eve With Allignment Error#######\n",
            "Max Error rate: 0.2777777777777778\n",
            "Average of error :  0.15833333333333335\n",
            "\n",
            "\n",
            "######With Eve and Allignment Error######\n",
            "Max Error rate: 0.4722222222222222\n",
            "Average of error :  0.3472222222222222\n",
            "Eve'sMax Error rate: 0.4722222222222222\n",
            "Eve's Average of error :  0.3833333333333333\n"
          ]
        }
      ]
    },
    {
      "cell_type": "markdown",
      "source": [
        "\n",
        "\n",
        "---\n",
        "# HeatMap\n",
        "\n",
        "\n",
        "---\n",
        "\n"
      ],
      "metadata": {
        "id": "UlKZoUbbHUL6"
      }
    },
    {
      "cell_type": "code",
      "source": [
        "def State_Probabilty_Visualization(theta_radians):\n",
        "  ListOfCounts = []\n",
        "  ListofBasis = []\n",
        "  Bits = [0,1]\n",
        "  SenderBasis = [0,1]\n",
        "  ReciverBasis = [0,1]\n",
        "  for SBasis in SenderBasis:\n",
        "    for  Bit in Bits:\n",
        "      for RBasis in ReciverBasis:\n",
        "        BasisCode = \"\"\n",
        "        BasisCode = str(Bit)+str(SBasis)+str(RBasis)\n",
        "        ListofBasis.append(BasisCode)\n",
        "        circuit = QuantumCircuit(11,11)\n",
        "        circuit = AlligmentError(circuit,Bit,SBasis,2*theta_radians)\n",
        "        circuit = SendSinglePhoton(circuit,False,False)\n",
        "        circuit = ReciviengSinglePhoton(circuit,RBasis)\n",
        "        counts = MeasureSinglePhoton(circuit)\n",
        "        for key in counts:\n",
        "          counts[key] /= 1000\n",
        "        for NBit in Bits:\n",
        "          if ('00'+str(NBit)+'00000000') not in counts:\n",
        "            counts['00'+str(NBit)+'00000000'] = 0.0\n",
        "        ListOfCounts.append(counts)\n",
        "  result = []\n",
        "  for d in ListOfCounts:\n",
        "      new_d = {}\n",
        "      for key, value in d.items():\n",
        "          third_bit = key[2]  # Extract the third bit from the left\n",
        "          new_d[third_bit] = value\n",
        "      result.append(new_d)\n",
        "  propmatrix = np.zeros((4,4))\n",
        "  j = 0\n",
        "  k = 0\n",
        "  for i in result:\n",
        "    propmatrix[k,j]= i['0']\n",
        "    propmatrix[k,j+1] = i['1']\n",
        "    j += 2\n",
        "    if j >= 4 :\n",
        "      j = 0\n",
        "      k += 1\n",
        "  return propmatrix"
      ],
      "metadata": {
        "id": "UrTBSElK3BV2"
      },
      "execution_count": null,
      "outputs": []
    },
    {
      "cell_type": "code",
      "source": [
        "propmat = State_Probabilty_Visualization(theta_radians)"
      ],
      "metadata": {
        "id": "ZYhFzUTT54_n"
      },
      "execution_count": null,
      "outputs": []
    },
    {
      "cell_type": "code",
      "source": [
        "print(propmat)"
      ],
      "metadata": {
        "colab": {
          "base_uri": "https://localhost:8080/"
        },
        "id": "nIX1udwe6Eot",
        "outputId": "e9d9b8ac-513b-433c-e078-15e814410e8e"
      },
      "execution_count": null,
      "outputs": [
        {
          "output_type": "stream",
          "name": "stdout",
          "text": [
            "[[0.813 0.187 0.898 0.102]\n",
            " [0.207 0.793 0.89  0.11 ]\n",
            " [0.897 0.103 0.816 0.184]\n",
            " [0.889 0.111 0.194 0.806]]\n"
          ]
        }
      ]
    },
    {
      "cell_type": "code",
      "source": [
        "# Plot the heatmap\n",
        "plt.imshow(propmat, cmap='afmhot', interpolation='nearest')\n",
        "plt.xticks(ticks=[0, 1, 2, 3], labels=[\"|0⟩\", \"|1⟩\", \"|+⟩\", \"|-⟩\"])\n",
        "plt.yticks(ticks=[0, 1, 2, 3], labels=[\"|0⟩\", \"|1⟩\", \"|+⟩\", \"|-⟩\"])\n",
        "\n",
        "# Add color bar\n",
        "plt.colorbar()\n",
        "\n",
        "# Show the plot\n",
        "plt.show()"
      ],
      "metadata": {
        "colab": {
          "base_uri": "https://localhost:8080/",
          "height": 430
        },
        "id": "PCOxfEPsDF-s",
        "outputId": "edb62184-0f08-4379-d53c-15a719acdf22"
      },
      "execution_count": null,
      "outputs": [
        {
          "output_type": "display_data",
          "data": {
            "text/plain": [
              "<Figure size 640x480 with 2 Axes>"
            ],
            "image/png": "[encoded data removed]"
          },
          "metadata": {}
        }
      ]
    },
    {
      "cell_type": "code",
      "source": [],
      "metadata": {
        "id": "usX1Rk0lBpyb"
      },
      "execution_count": null,
      "outputs": []
    }
  ]
}