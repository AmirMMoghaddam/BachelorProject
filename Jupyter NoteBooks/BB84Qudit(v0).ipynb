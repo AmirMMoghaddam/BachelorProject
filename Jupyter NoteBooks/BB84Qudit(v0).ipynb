{
  "nbformat": 4,
  "nbformat_minor": 0,
  "metadata": {
    "colab": {
      "provenance": []
    },
    "kernelspec": {
      "name": "python3",
      "display_name": "Python 3"
    },
    "language_info": {
      "name": "python"
    }
  },
  "cells": [
    {
      "cell_type": "code",
      "execution_count": null,
      "metadata": {
        "id": "SfOVxRbJGmlQ"
      },
      "outputs": [],
      "source": [
        "pip install qiskit qiskit_aer"
      ]
    },
    {
      "cell_type": "code",
      "source": [
        "from qiskit import QuantumRegister, ClassicalRegister, QuantumCircuit\n",
        "from qiskit.visualization import *\n",
        "from numpy import pi\n",
        "import numpy as np\n",
        "import math\n",
        "from qiskit_aer import Aer\n",
        "from qiskit import transpile\n",
        "import qiskit.quantum_info as qi\n",
        "import random\n",
        "from qiskit.circuit.library import SdgGate\n",
        "import matplotlib.pyplot as plt"
      ],
      "metadata": {
        "id": "NTjkdzlEGvpt"
      },
      "execution_count": null,
      "outputs": []
    },
    {
      "cell_type": "code",
      "source": [
        "length=128\n",
        "DitSequence= [random.randint(0, 3) for _ in range(length)]\n",
        "AliceBases =[random.randint(0, 1) for _ in range(length)]\n",
        "BobBases = [random.randint(0, 1) for _ in range(length)]\n",
        "EveBases = [random.randint(0, 1) for _ in range(length)]"
      ],
      "metadata": {
        "id": "1VxoucR0IdCl"
      },
      "execution_count": null,
      "outputs": []
    },
    {
      "cell_type": "code",
      "source": [
        "# All Qudit related functions and objects\n",
        "\n",
        "def base4_sort(key):\n",
        "    return int(key, 4)\n",
        "class QuditCircuit:\n",
        "    def __init__(self, d, n):\n",
        "        # Calculate the total number of qubits\n",
        "        self.num_qudits = n\n",
        "        self.dimension = d\n",
        "        self.num_qubits = n * d/2\n",
        "        self.Counts = []\n",
        "        self.Counts2 = []\n",
        "        # Create a QuantumCircuit object with the specified dimensions\n",
        "        self.circuit = QuantumCircuit(self.num_qubits, self.num_qubits)\n",
        "    def measure(self):\n",
        "        # Add a barrier to separate the measurement operations\n",
        "        self.circuit.barrier()\n",
        "        # Measure all qubits\n",
        "        qubit_indices = list(range(int(self.num_qubits)))\n",
        "        self.circuit.measure(qubit_indices, qubit_indices)\n",
        "    def CT(self,Gate):\n",
        "      CT_Gate = qi.Operator(Gate)\n",
        "      for i in range(0, int(self.num_qubits), 2):\n",
        "        self.circuit.unitary(CT_Gate, [i,i+1], label=\"CrossTalk\")\n",
        "    def Translate(self):\n",
        "      # Translate each key into the desired format\n",
        "      translated_data = {}\n",
        "      for key, value in self.Counts.items():\n",
        "          translated_key = ''.join([str(int(key[i:i+2], 2)) for i in range(0, len(key), 2)])\n",
        "          translated_data[translated_key] = value\n",
        "      sorted_data = {k: v for k, v in sorted(translated_data.items(), key=lambda item: base4_sort(item[0]))}\n",
        "      self.Counts2 = sorted_data\n",
        "    def run(self):\n",
        "      # Use Aer's qasm_simulator\n",
        "      simulator = Aer.get_backend('qasm_simulator')\n",
        "      # Execute the circuit on the qasm simulator\n",
        "      new_circuit = transpile(self.circuit, simulator)\n",
        "      job = simulator.run(new_circuit, shots = 1000)\n",
        "      # Grab results from the job\n",
        "      result = job.result()\n",
        "      # Return counts\n",
        "      self.Counts = result.get_counts(self.circuit)\n",
        "      self.Translate()\n",
        "    def test(self):\n",
        "      self.circuit.x(1)"
      ],
      "metadata": {
        "id": "z_vyfk63G_y2"
      },
      "execution_count": null,
      "outputs": []
    },
    {
      "cell_type": "code",
      "source": [
        "# Here are all the functions related to BB84 protocol\n",
        "\n",
        "def Modulation(Qudit,Dit,AliceBasis):\n",
        "  if AliceBasis == 0:\n",
        "    #print(\"Basis 0\")\n",
        "    if Dit == 1:\n",
        "      Qudit.circuit.x(0)\n",
        "    if Dit == 2:\n",
        "      Qudit.circuit.x(1)\n",
        "    if Dit == 3:\n",
        "      Qudit.circuit.x(0)\n",
        "      Qudit.circuit.x(1)\n",
        "  else:\n",
        "     #print(\"Basis 1\")\n",
        "     if Dit == 0:\n",
        "      #print(\"Entered 0\")\n",
        "      Qudit.circuit.h(0)\n",
        "      Qudit.circuit.h(1)\n",
        "     elif Dit == 1:\n",
        "      #print(\"Entered 1\")\n",
        "      Qudit.circuit.x(1)\n",
        "      Qudit.circuit.h(1)\n",
        "      Qudit.circuit.h(0)\n",
        "      Qudit.circuit.s(0)\n",
        "     elif Dit == 2:\n",
        "      #print(\"Entered 2\")\n",
        "      Qudit.circuit.x(0)\n",
        "      Qudit.circuit.h(0)\n",
        "      Qudit.circuit.h(1)\n",
        "     elif Dit == 3:\n",
        "      #print(\"Entered 3\")\n",
        "      Qudit.circuit.x(0)\n",
        "      Qudit.circuit.h(0)\n",
        "      Qudit.circuit.s(0)\n",
        "      Qudit.circuit.x(1)\n",
        "      Qudit.circuit.h(1)\n",
        "  return Qudit\n",
        "def ReciviengSinglePhoton(Qudit,BobBasis):\n",
        "  csgate = SdgGate().control(1) # the parameter is the amount of control points you want\n",
        "  if BobBasis == 1:\n",
        "     #print(\"Measure Basis 1\")\n",
        "     Qudit.circuit.h(1)\n",
        "     Qudit.circuit.append(csgate, [1, 0])\n",
        "     Qudit.circuit.h(0)\n",
        "     Qudit.circuit.cx(1,0)\n",
        "     Qudit.circuit.cx(0,1)\n",
        "     Qudit.circuit.cx(1,0)\n",
        "  Qudit.measure()\n",
        "  Qudit.run()\n",
        "  #print(Qudit.Counts)\n",
        "def CrossTalk(Qudit):\n",
        "  Gate = [[0.9,math.sqrt(19/100)*1j,0,0],\n",
        "        [math.sqrt(19/100)*1j,0.9,0,0],\n",
        "        [0,0,0.9,math.sqrt(19/100)*1j],\n",
        "        [0,0,math.sqrt(19/100)*1j,0.9]]\n",
        "  Qudit.CT(Gate)\n",
        "def BB84(DitSequence,AliceBases,BobBases,EveBases,length,Eve,CrossT):\n",
        "   ListOfCounts = []\n",
        "   if Eve==True:\n",
        "    for i in range(length):\n",
        "        #print(\"for bit number : \", i)\n",
        "        Qudit = QuditCircuit(4,1)\n",
        "        #Getting that one photon with Alice's Basis ready to send\n",
        "        Qudit = Modulation(Qudit,DitSequence[i],AliceBases[i])\n",
        "        #circuit = GettingReady(circuit,BitSequence[i],AliceBases[i])\n",
        "        #Sending Single photon\n",
        "        CrossTalk(Qudit) if CrossT else None\n",
        "        #Recive Single Photon\n",
        "        ReciviengSinglePhoton(Qudit,EveBases[i])\n",
        "        #Measure one Photon with Bob Basis\n",
        "        ListOfCounts.append(Qudit.Counts2)\n",
        "    output_string = \"\"\n",
        "    for d in ListOfCounts:\n",
        "     key = list(d.keys())[0]  # Extract the key from the dictionary\n",
        "     output_string += key\n",
        "    list_from_Key = [int(char) for char in output_string]\n",
        "    ListOfCounts = []\n",
        "    for i in range(length):\n",
        "        #print(\"for bit number : \", i)\n",
        "        Qudit = QuditCircuit(4,1)\n",
        "        #Getting that one photon with Alice's Basis ready to send\n",
        "        Qudit = Modulation(Qudit,DitSequence[i],EveBases[i])\n",
        "        #circuit = GettingReady(circuit,BitSequence[i],AliceBases[i])\n",
        "        #Sending Single photon\n",
        "        CrossTalk(Qudit) if CrossT else None\n",
        "        #Recive Single Photon\n",
        "        ReciviengSinglePhoton(Qudit,BobBases[i])\n",
        "        #Measure one Photon with Bob Basis\n",
        "        ListOfCounts.append(Qudit.Counts2)\n",
        "        #print(\"-----------\")\n",
        "    Check_list = []\n",
        "    for i in range(len(ListOfCounts)):\n",
        "       if AliceBases[i] == BobBases[i]:\n",
        "           Check_list.append(ListOfCounts[i])\n",
        "    #print(\"The Bases checked list is : \",Check_list)\n",
        "    output_string = \"\"\n",
        "    for d in Check_list:\n",
        "     key = list(d.keys())[0]  # Extract the key from the dictionary\n",
        "     output_string += key\n",
        "   else:\n",
        "    for i in range(length):\n",
        "        #print(\"for bit number : \", i)\n",
        "        Qudit = QuditCircuit(4,1)\n",
        "        #Getting that one photon with Alice's Basis ready to send\n",
        "        Qudit = Modulation(Qudit,DitSequence[i],AliceBases[i])\n",
        "        #circuit = GettingReady(circuit,BitSequence[i],AliceBases[i])\n",
        "        #Sending Single photon\n",
        "        CrossTalk(Qudit) if CrossT else None\n",
        "        #Recive Single Photon\n",
        "        ReciviengSinglePhoton(Qudit,BobBases[i])\n",
        "        #Measure one Photon with Bob Basis\n",
        "        ListOfCounts.append(Qudit.Counts2)\n",
        "        #print(\"-----------\")\n",
        "    Check_list = []\n",
        "    for i in range(len(ListOfCounts)):\n",
        "       if AliceBases[i] == BobBases[i]:\n",
        "           Check_list.append(ListOfCounts[i])\n",
        "   #print(\"The Bases checked list is : \",Check_list)\n",
        "    output_string = \"\"\n",
        "    for d in Check_list:\n",
        "     key = list(d.keys())[0]  # Extract the key from the dictionary\n",
        "     output_string += key\n",
        "   return  output_string\n",
        "def AliceKey(Dit,AliceBases,BobBases):\n",
        "    Check_list = []\n",
        "    for i in range(len(Dit)):\n",
        "        if AliceBases[i] == BobBases[i]:\n",
        "            Check_list.append(Dit[i])\n",
        "        Key = ''\n",
        "    for item in Check_list:\n",
        "        Key = Key + str(item)\n",
        "    return Key\n",
        "def CheckSecurity(Key,Akey,Checklength):\n",
        "    if Akey[-Checklength:] == Key[-Checklength:]:\n",
        "        print(\"The Connection is Secure with the probability of:\")\n",
        "        print((1-((3/4)**Checklength))*100)\n",
        "    else:\n",
        "        print(\"The Connection is not Secure!\")\n",
        "\n",
        "#This Functions are for analizing our results\n",
        "def calculate_error_rate(results, alicekey):\n",
        "    error_rates = []\n",
        "    sums = 0\n",
        "    results_length = len(results)\n",
        "    key_length = len(alicekey)\n",
        "\n",
        "    for result in results:\n",
        "        # Compare each character in the strings and count the number of differences\n",
        "        num_errors = sum(bit1 != bit2 for bit1, bit2 in zip(result, alicekey))\n",
        "        # Calculate the error rate\n",
        "        error_rate = num_errors / key_length\n",
        "        sums = sums + error_rate\n",
        "        error_rates.append(error_rate)\n",
        "\n",
        "    return error_rates , sums/results_length"
      ],
      "metadata": {
        "id": "NJ8JoHSnH-uy"
      },
      "execution_count": null,
      "outputs": []
    },
    {
      "cell_type": "code",
      "source": [
        "Key = BB84(DitSequence,AliceBases,BobBases,EveBases,length,False,True)\n",
        "EveKey = BB84(DitSequence,AliceBases,BobBases,EveBases,length,True,True)\n",
        "aliceKey= AliceKey(DitSequence,AliceBases,BobBases)"
      ],
      "metadata": {
        "id": "L4KixdnQvYH7"
      },
      "execution_count": null,
      "outputs": []
    },
    {
      "cell_type": "code",
      "source": [
        "print(\"Bob's Key is: \",Key)\n",
        "print(\"Alice's Key is : \",aliceKey)\n",
        "print(\"Bob's Key is(Eve): \",EveKey)"
      ],
      "metadata": {
        "colab": {
          "base_uri": "https://localhost:8080/"
        },
        "id": "VtdvU0z0vpnB",
        "outputId": "75efaeec-bf54-4a58-e105-ce48aedc83b8"
      },
      "execution_count": null,
      "outputs": [
        {
          "output_type": "stream",
          "name": "stdout",
          "text": [
            "Bob's Key is:  120121211012232201020020000220220000021010022200222222300\n",
            "Alice's Key is :  130121211012232311021020110230220000121010032211222223310\n",
            "Bob's Key is(Eve):  000021211000202000020000000220200000001010002200002000000\n"
          ]
        }
      ]
    },
    {
      "cell_type": "code",
      "source": [
        "CheckSecurity(Key,aliceKey,30)"
      ],
      "metadata": {
        "colab": {
          "base_uri": "https://localhost:8080/"
        },
        "id": "WOhNNM_bwTsY",
        "outputId": "6ba36390-974b-42f2-c766-aac9611aaa78"
      },
      "execution_count": null,
      "outputs": [
        {
          "output_type": "stream",
          "name": "stdout",
          "text": [
            "The Connection is not Secure!\n"
          ]
        }
      ]
    },
    {
      "cell_type": "code",
      "source": [
        "print(len(Key))"
      ],
      "metadata": {
        "id": "VZqITZgKwXq4",
        "colab": {
          "base_uri": "https://localhost:8080/"
        },
        "outputId": "a14595dc-8db5-4fd6-a9a0-d087e9589623"
      },
      "execution_count": null,
      "outputs": [
        {
          "output_type": "stream",
          "name": "stdout",
          "text": [
            "31\n"
          ]
        }
      ]
    },
    {
      "cell_type": "code",
      "source": [
        "aliceKey= AliceKey(DitSequence,AliceBases,BobBases)\n",
        "results = []\n",
        "for _ in range(30):\n",
        "   result = BB84(DitSequence,AliceBases,BobBases,EveBases,length,False,True) # Call the BB84 function\n",
        "   results.append(result)\n",
        "print(results)"
      ],
      "metadata": {
        "id": "p1OXIU0F2yRd",
        "colab": {
          "base_uri": "https://localhost:8080/"
        },
        "outputId": "cc4a6fa3-296b-42ef-9d72-f7452a8bb0c9"
      },
      "execution_count": null,
      "outputs": [
        {
          "output_type": "stream",
          "name": "stdout",
          "text": [
            "['32223223102030301310223110213321232', '32223223102030301310223100213320232', '32223223112030301310223010213320232', '32223223102030301301222100213321232', '32323223102030301310222110213321232', '32223223102030301300222110313331232', '22323223102030301310223110213321232', '32223223102030301310222110213320222', '32223223102030301300223010213320232', '32223223102030301310222110213321232', '32223223112030301200233110213321232', '32223223112030301310223010213320222', '32223223112030301310223110213321232', '22223223102030301301223100213321232', '32223223102030301310223110213321232', '32223223112030301311223110213320232', '32223223102030301310233110313321222', '32223223102030301210233100213321232', '32223223102030301210223110213321232', '32223223102030301310233110213331232', '32223223102030301200223000213321232', '32223223102030301311223110313331232', '22223223102030301310232110213321232', '32223223102030301300223110313321232', '32223223102030301311223110213321222', '32223223102030301310222010213321222', '32223223102030301310223100213321232', '32223223102030301300233110213320222', '32323223102030301310232100213321232', '22223223102030301310223110313320232']\n"
          ]
        }
      ]
    },
    {
      "cell_type": "code",
      "source": [
        "error_rates , average = calculate_error_rate(results, aliceKey)\n",
        "print(\"Error rates:\", error_rates)\n",
        "print(\"Average of error : \", average)"
      ],
      "metadata": {
        "colab": {
          "base_uri": "https://localhost:8080/"
        },
        "id": "b8nGeQLNK7FH",
        "outputId": "85ffe2cc-c343-41e9-f312-c0164537697d"
      },
      "execution_count": null,
      "outputs": [
        {
          "output_type": "stream",
          "name": "stdout",
          "text": [
            "Error rates: [0.0, 0.05714285714285714, 0.08571428571428572, 0.11428571428571428, 0.05714285714285714, 0.11428571428571428, 0.05714285714285714, 0.08571428571428572, 0.08571428571428572, 0.02857142857142857, 0.11428571428571428, 0.11428571428571428, 0.02857142857142857, 0.11428571428571428, 0.0, 0.08571428571428572, 0.08571428571428572, 0.08571428571428572, 0.02857142857142857, 0.05714285714285714, 0.11428571428571428, 0.08571428571428572, 0.08571428571428572, 0.05714285714285714, 0.05714285714285714, 0.08571428571428572, 0.02857142857142857, 0.11428571428571428, 0.11428571428571428, 0.08571428571428572]\n",
            "Average of error :  0.07428571428571427\n"
          ]
        }
      ]
    },
    {
      "cell_type": "code",
      "source": [
        "aliceKey= AliceKey(DitSequence,AliceBases,BobBases)\n",
        "Everesults = []\n",
        "for _ in range(10):\n",
        "   result = BB84(DitSequence,AliceBases,BobBases,EveBases,length,True,False) # Call the BB84 function\n",
        "   Everesults.append(result)"
      ],
      "metadata": {
        "id": "lHzZSV98LGHp"
      },
      "execution_count": null,
      "outputs": []
    },
    {
      "cell_type": "code",
      "source": [
        "EveError_rates , EveAverage = calculate_error_rate(Everesults, aliceKey)\n",
        "print(\"Error rates:\", EveError_rates)\n",
        "print(\"Average of error : \", EveAverage)"
      ],
      "metadata": {
        "colab": {
          "base_uri": "https://localhost:8080/"
        },
        "id": "LasKNKrEPgEa",
        "outputId": "61d93404-9941-4244-925d-14e94f3895cd"
      },
      "execution_count": null,
      "outputs": [
        {
          "output_type": "stream",
          "name": "stdout",
          "text": [
            "Error rates: [0.2857142857142857, 0.2698412698412698, 0.30158730158730157, 0.3333333333333333, 0.2857142857142857, 0.3333333333333333, 0.31746031746031744, 0.36507936507936506, 0.3492063492063492, 0.30158730158730157]\n",
            "Average of error :  0.3142857142857143\n"
          ]
        }
      ]
    },
    {
      "cell_type": "code",
      "source": [
        "def State_Probabilty_Visualization(CrossT):\n",
        "  ListOfCounts = []\n",
        "  Dits = [0,1,2,3]\n",
        "  SenderBasis = [0,1]\n",
        "  ReciverBasis = [0,1]\n",
        "  for SBasis in SenderBasis:\n",
        "    for  Dit in Dits:\n",
        "      for RBasis in ReciverBasis:\n",
        "        Qudit = QuditCircuit(4,1)\n",
        "        Qudit = Modulation(Qudit,Dit,SBasis)\n",
        "        CrossTalk(Qudit) if CrossT else None\n",
        "        ReciviengSinglePhoton(Qudit,RBasis)\n",
        "        counts = Qudit.Counts2\n",
        "        for key in counts:\n",
        "          counts[key] /= 1000\n",
        "        for NDit in Dits:\n",
        "          if str(NDit) not in counts:\n",
        "            counts[str(NDit)] = 0.0\n",
        "        ListOfCounts.append(counts)\n",
        "  propmatrix = np.zeros((8,8))\n",
        "  j = 0\n",
        "  k = 0\n",
        "  for i in ListOfCounts:\n",
        "    propmatrix[k,j]= i['0']\n",
        "    propmatrix[k,j+1] = i['1']\n",
        "    propmatrix[k,j+2]= i['2']\n",
        "    propmatrix[k,j+3] = i['3']\n",
        "    j += 4\n",
        "    if j >= 8 :\n",
        "      j = 0\n",
        "      k += 1\n",
        "  return propmatrix"
      ],
      "metadata": {
        "id": "036VVskuPxE0"
      },
      "execution_count": null,
      "outputs": []
    },
    {
      "cell_type": "code",
      "source": [
        "propmat = State_Probabilty_Visualization(True)"
      ],
      "metadata": {
        "id": "8eMkW6ebuD8A"
      },
      "execution_count": null,
      "outputs": []
    },
    {
      "cell_type": "code",
      "source": [
        "print(propmat)"
      ],
      "metadata": {
        "colab": {
          "base_uri": "https://localhost:8080/"
        },
        "id": "l021OxlVuaT7",
        "outputId": "01fe73fc-c032-4fd3-bb43-b4c2046d5618"
      },
      "execution_count": null,
      "outputs": [
        {
          "output_type": "stream",
          "name": "stdout",
          "text": [
            "[[0.806 0.194 0.    0.    0.24  0.447 0.247 0.066]\n",
            " [0.193 0.807 0.    0.    0.261 0.05  0.22  0.469]\n",
            " [0.    0.    0.803 0.197 0.254 0.46  0.23  0.056]\n",
            " [0.    0.    0.175 0.825 0.24  0.057 0.258 0.445]\n",
            " [0.237 0.261 0.284 0.218 1.    0.    0.    0.   ]\n",
            " [0.051 0.478 0.062 0.409 0.    0.82  0.    0.18 ]\n",
            " [0.234 0.229 0.24  0.297 0.    0.    1.    0.   ]\n",
            " [0.47  0.06  0.408 0.062 0.    0.179 0.    0.821]]\n"
          ]
        }
      ]
    },
    {
      "cell_type": "code",
      "source": [
        "# Plot the heatmap\n",
        "plt.imshow(propmat, cmap='afmhot', interpolation='nearest')\n",
        "plt.xticks(ticks=[0, 1, 2, 3, 4, 5, 6, 7], labels=[\"|Ψ0⟩\", \"|Ψ1⟩\", \"|Ψ2⟩\", \"|Ψ3⟩\" ,\"|Φ0⟩\", \"|Φ1⟩\",\"|Φ2⟩\", \"|Φ3⟩\"])\n",
        "plt.yticks(ticks=[0, 1, 2, 3, 4, 5, 6, 7], labels=[\"|Ψ0⟩\", \"|Ψ1⟩\", \"|Ψ2⟩\", \"|Ψ3⟩\" ,\"|Φ0⟩\", \"|Φ1⟩\",\"|Φ2⟩\", \"|Φ3⟩\"])\n",
        "# Add color bar\n",
        "plt.colorbar()\n",
        "\n",
        "# Show the plot\n",
        "plt.show()"
      ],
      "metadata": {
        "colab": {
          "base_uri": "https://localhost:8080/",
          "height": 436
        },
        "id": "XGY3ajUIv4lR",
        "outputId": "fc5826b1-e0e9-4609-8bea-0870e4f42514"
      },
      "execution_count": null,
      "outputs": [
        {
          "output_type": "display_data",
          "data": {
            "text/plain": [
              "<Figure size 640x480 with 2 Axes>"
            ],
            "image/png": "[encoded data removed]"
          },
          "metadata": {}
        }
      ]
    },
    {
      "cell_type": "code",
      "source": [
        "circuit =  QuantumCircuit(2,2)\n",
        "circuit.x(1)\n",
        "circuit.h(1)\n",
        "circuit.x(0)\n",
        "circuit.h(0)\n",
        "circuit.s(0)\n",
        "# ---- MEAsure\n",
        "csgate = SdgGate().control(1)\n",
        "circuit.h(1)\n",
        "circuit.append(csgate, [1, 0])\n",
        "circuit.h(0)\n",
        "circuit.cx(1,0)\n",
        "circuit.cx(0,1)\n",
        "circuit.cx(1,0)\n",
        "circuit.measure([0,1], [0,1])\n",
        "simulator = Aer.get_backend('qasm_simulator')\n",
        "# Execute the circuit on the qasm simulator\n",
        "new_circuit = transpile(circuit, simulator)\n",
        "job = simulator.run(new_circuit, shots = 1000)\n",
        "# Grab results from the job\n",
        "result = job.result()\n",
        "# Return count\n",
        "Counts = result.get_counts(circuit)"
      ],
      "metadata": {
        "id": "xY6tl4B9zRM9"
      },
      "execution_count": null,
      "outputs": []
    },
    {
      "cell_type": "code",
      "source": [
        "print(Counts)"
      ],
      "metadata": {
        "colab": {
          "base_uri": "https://localhost:8080/"
        },
        "id": "nAu1yNO29tqd",
        "outputId": "f91b155f-8001-4bed-ae27-0b9c4a70be39"
      },
      "execution_count": null,
      "outputs": [
        {
          "output_type": "stream",
          "name": "stdout",
          "text": [
            "{'11': 1000}\n"
          ]
        }
      ]
    },
    {
      "cell_type": "code",
      "source": [],
      "metadata": {
        "id": "DwnTyOKK9wCa"
      },
      "execution_count": null,
      "outputs": []
    }
  ]
}