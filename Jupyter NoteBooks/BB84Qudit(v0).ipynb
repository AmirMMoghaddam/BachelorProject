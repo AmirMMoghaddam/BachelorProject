{
  "nbformat": 4,
  "nbformat_minor": 0,
  "metadata": {
    "colab": {
      "provenance": []
    },
    "kernelspec": {
      "name": "python3",
      "display_name": "Python 3"
    },
    "language_info": {
      "name": "python"
    }
  },
  "cells": [
    {
      "cell_type": "code",
      "execution_count": null,
      "metadata": {
        "id": "SfOVxRbJGmlQ"
      },
      "outputs": [],
      "source": [
        "pip install qiskit qiskit_aer"
      ]
    },
    {
      "cell_type": "markdown",
      "source": [
        "\n",
        "\n",
        "---\n",
        "\n",
        "# Imports\n",
        "\n",
        "---\n",
        "\n"
      ],
      "metadata": {
        "id": "TX7fPCIWsL7Y"
      }
    },
    {
      "cell_type": "code",
      "source": [
        "from qiskit import QuantumRegister, ClassicalRegister, QuantumCircuit\n",
        "from qiskit.visualization import *\n",
        "from numpy import pi\n",
        "import numpy as np\n",
        "import math\n",
        "from qiskit_aer import Aer\n",
        "from qiskit import transpile\n",
        "import qiskit.quantum_info as qi\n",
        "import random\n",
        "from qiskit.circuit.library import SdgGate\n",
        "import matplotlib.pyplot as plt"
      ],
      "metadata": {
        "id": "NTjkdzlEGvpt"
      },
      "execution_count": 2,
      "outputs": []
    },
    {
      "cell_type": "markdown",
      "source": [
        "\n",
        "\n",
        "---\n",
        "\n",
        "# Variable Definition\n",
        "\n",
        "---\n",
        "\n"
      ],
      "metadata": {
        "id": "cHkBXqMtsSsV"
      }
    },
    {
      "cell_type": "code",
      "source": [
        "length=16\n",
        "DitSequence= [random.randint(0, 3) for _ in range(length)]\n",
        "AliceBases =[random.randint(0, 1) for _ in range(length)]\n",
        "BobBases = [random.randint(0, 1) for _ in range(length)]\n",
        "EveBases = [random.randint(0, 1) for _ in range(length)]"
      ],
      "metadata": {
        "id": "1VxoucR0IdCl"
      },
      "execution_count": 63,
      "outputs": []
    },
    {
      "cell_type": "markdown",
      "source": [
        "\n",
        "\n",
        "---\n",
        "\n",
        "# Qudit Object\n",
        "\n",
        "---\n",
        "\n"
      ],
      "metadata": {
        "id": "NAPq9Cccsbtt"
      }
    },
    {
      "cell_type": "code",
      "source": [
        "# All Qudit related functions and objects\n",
        "\n",
        "def base4_sort(key):\n",
        "    return int(key, 4)\n",
        "class QuditCircuit:\n",
        "    def __init__(self, d, n):\n",
        "        # Calculate the total number of qubits\n",
        "        self.num_qudits = n\n",
        "        self.dimension = d\n",
        "        self.num_qubits = n * d/2\n",
        "        self.Counts = []\n",
        "        self.Counts2 = []\n",
        "        # Create a QuantumCircuit object with the specified dimensions\n",
        "        self.circuit = QuantumCircuit(self.num_qubits, self.num_qubits)\n",
        "    def measure(self):\n",
        "        # Add a barrier to separate the measurement operations\n",
        "        self.circuit.barrier()\n",
        "        # Measure all qubits\n",
        "        qubit_indices = list(range(int(self.num_qubits)))\n",
        "        self.circuit.measure(qubit_indices, qubit_indices)\n",
        "    def CT(self,Gate):\n",
        "      CT_Gate = qi.Operator(Gate)\n",
        "      for i in range(0, int(self.num_qubits), 2):\n",
        "        self.circuit.unitary(CT_Gate, [i,i+1], label=\"CrossTalk\")\n",
        "    def Translate(self):\n",
        "      # Translate each key into the desired format\n",
        "      translated_data = {}\n",
        "      for key, value in self.Counts.items():\n",
        "          translated_key = ''.join([str(int(key[i:i+2], 2)) for i in range(0, len(key), 2)])\n",
        "          translated_data[translated_key] = value\n",
        "      sorted_data = {k: v for k, v in sorted(translated_data.items(), key=lambda item: base4_sort(item[0]))}\n",
        "      self.Counts2 = sorted_data\n",
        "    def run(self):\n",
        "      # Use Aer's qasm_simulator\n",
        "      simulator = Aer.get_backend('qasm_simulator')\n",
        "      # Execute the circuit on the qasm simulator\n",
        "      new_circuit = transpile(self.circuit, simulator)\n",
        "      job = simulator.run(new_circuit, shots = 1)\n",
        "      # Grab results from the job\n",
        "      result = job.result()\n",
        "      # Return counts\n",
        "      self.Counts = result.get_counts(self.circuit)\n",
        "      self.Translate()\n",
        "    def test(self):\n",
        "      self.circuit.x(1)"
      ],
      "metadata": {
        "id": "z_vyfk63G_y2"
      },
      "execution_count": 30,
      "outputs": []
    },
    {
      "cell_type": "markdown",
      "source": [
        "\n",
        "\n",
        "---\n",
        "\n",
        "# BB84 functions\n",
        "\n",
        "---\n",
        "\n"
      ],
      "metadata": {
        "id": "2l-4xUVjstVT"
      }
    },
    {
      "cell_type": "code",
      "source": [
        "# Here are all the functions related to BB84 protocol\n",
        "\n",
        "def Modulation(Qudit,Dit,AliceBasis):\n",
        "  if AliceBasis == 0:\n",
        "    #print(\"Basis 0\")\n",
        "    if Dit == 1:\n",
        "      Qudit.circuit.x(0)\n",
        "    if Dit == 2:\n",
        "      Qudit.circuit.x(1)\n",
        "    if Dit == 3:\n",
        "      Qudit.circuit.x(0)\n",
        "      Qudit.circuit.x(1)\n",
        "  else:\n",
        "     #print(\"Basis 1\")\n",
        "     if Dit == 0:\n",
        "      #print(\"Entered 0\")\n",
        "      Qudit.circuit.h(0)\n",
        "      Qudit.circuit.h(1)\n",
        "     elif Dit == 1:\n",
        "      #print(\"Entered 1\")\n",
        "      Qudit.circuit.x(1)\n",
        "      Qudit.circuit.h(1)\n",
        "      Qudit.circuit.h(0)\n",
        "      Qudit.circuit.s(0)\n",
        "     elif Dit == 2:\n",
        "      #print(\"Entered 2\")\n",
        "      Qudit.circuit.x(0)\n",
        "      Qudit.circuit.h(0)\n",
        "      Qudit.circuit.h(1)\n",
        "     elif Dit == 3:\n",
        "      #print(\"Entered 3\")\n",
        "      Qudit.circuit.x(0)\n",
        "      Qudit.circuit.h(0)\n",
        "      Qudit.circuit.s(0)\n",
        "      Qudit.circuit.x(1)\n",
        "      Qudit.circuit.h(1)\n",
        "  return Qudit\n",
        "def ReciviengSinglePhoton(Qudit,BobBasis):\n",
        "  csgate = SdgGate().control(1) # the parameter is the amount of control points you want\n",
        "  if BobBasis == 1:\n",
        "     #print(\"Measure Basis 1\")\n",
        "     Qudit.circuit.h(1)\n",
        "     Qudit.circuit.append(csgate, [1, 0])\n",
        "     Qudit.circuit.h(0)\n",
        "     Qudit.circuit.cx(1,0)\n",
        "     Qudit.circuit.cx(0,1)\n",
        "     Qudit.circuit.cx(1,0)\n",
        "  Qudit.measure()\n",
        "  Qudit.run()\n",
        "  #print(Qudit.Counts)\n",
        "def CrossTalk(Qudit):\n",
        "  Gate = [[0.9,math.sqrt(19/100)*1j,0,0],\n",
        "        [math.sqrt(19/100)*1j,0.9,0,0],\n",
        "        [0,0,0.9,math.sqrt(19/100)*1j],\n",
        "        [0,0,math.sqrt(19/100)*1j,0.9]]\n",
        "  Qudit.CT(Gate)\n",
        "def BB84(DitSequence,AliceBases,BobBases,EveBases,length,Eve,CrossT):\n",
        "   EveListOfCounts = []\n",
        "   if Eve==True:\n",
        "    for i in range(length):\n",
        "        #print(\"for bit number : \", i)\n",
        "        Qudit = QuditCircuit(4,1)\n",
        "        #Getting that one photon with Alice's Basis ready to send\n",
        "        Qudit = Modulation(Qudit,DitSequence[i],AliceBases[i])\n",
        "        #circuit = GettingReady(circuit,BitSequence[i],AliceBases[i])\n",
        "        #Sending Single photon\n",
        "        CrossTalk(Qudit) if CrossT else None\n",
        "        #Recive Single Photon\n",
        "        ReciviengSinglePhoton(Qudit,EveBases[i])\n",
        "        #Measure one Photon with Bob Basis\n",
        "        EveListOfCounts.append(Qudit.Counts2)\n",
        "    output_string = \"\"\n",
        "    for d in EveListOfCounts:\n",
        "     key = list(d.keys())[0]  # Extract the key from the dictionary\n",
        "     output_string += key\n",
        "    list_from_Key = [int(char) for char in output_string]\n",
        "    ListOfCounts = []\n",
        "    for i in range(length):\n",
        "        #print(\"for bit number : \", i)\n",
        "        Qudit = QuditCircuit(4,1)\n",
        "        #Getting that one photon with Alice's Basis ready to send\n",
        "        Qudit = Modulation(Qudit,DitSequence[i],EveBases[i])\n",
        "        #circuit = GettingReady(circuit,BitSequence[i],AliceBases[i])\n",
        "        #Sending Single photon\n",
        "        CrossTalk(Qudit) if CrossT else None\n",
        "        #Recive Single Photon\n",
        "        ReciviengSinglePhoton(Qudit,BobBases[i])\n",
        "        #Measure one Photon with Bob Basis\n",
        "        ListOfCounts.append(Qudit.Counts2)\n",
        "        #print(\"-----------\")\n",
        "    Check_list = []\n",
        "    EveCheck_list = []\n",
        "    for i in range(len(ListOfCounts)):\n",
        "       if AliceBases[i] == BobBases[i]:\n",
        "           Check_list.append(ListOfCounts[i])\n",
        "           EveCheck_list.append(EveListOfCounts[i])\n",
        "    #print(\"The Bases checked list is : \",Check_list)\n",
        "    output_string = \"\"\n",
        "    Eveoutput_string = \"\"\n",
        "    for d in Check_list:\n",
        "     key = list(d.keys())[0]  # Extract the key from the dictionary\n",
        "     output_string += key\n",
        "    for d in EveCheck_list:\n",
        "     key = list(d.keys())[0]  # Extract the key from the dictionary\n",
        "     Eveoutput_string += key\n",
        "    return output_string , Eveoutput_string\n",
        "   else:\n",
        "    ListOfCounts = []\n",
        "    for i in range(length):\n",
        "        #print(\"for bit number : \", i)\n",
        "        Qudit = QuditCircuit(4,1)\n",
        "        #Getting that one photon with Alice's Basis ready to send\n",
        "        Qudit = Modulation(Qudit,DitSequence[i],AliceBases[i])\n",
        "        #circuit = GettingReady(circuit,BitSequence[i],AliceBases[i])\n",
        "        #Sending Single photon\n",
        "        CrossTalk(Qudit) if CrossT else None\n",
        "        #Recive Single Photon\n",
        "        ReciviengSinglePhoton(Qudit,BobBases[i])\n",
        "        #Measure one Photon with Bob Basis\n",
        "        ListOfCounts.append(Qudit.Counts2)\n",
        "        #print(\"-----------\")\n",
        "    Check_list = []\n",
        "    for i in range(len(ListOfCounts)):\n",
        "       if AliceBases[i] == BobBases[i]:\n",
        "           Check_list.append(ListOfCounts[i])\n",
        "   #print(\"The Bases checked list is : \",Check_list)\n",
        "    output_string = \"\"\n",
        "    for d in Check_list:\n",
        "     key = list(d.keys())[0]  # Extract the key from the dictionary\n",
        "     output_string += key\n",
        "    return  output_string\n",
        "def AliceKey(Dit,AliceBases,BobBases):\n",
        "    Check_list = []\n",
        "    for i in range(len(Dit)):\n",
        "        if AliceBases[i] == BobBases[i]:\n",
        "            Check_list.append(Dit[i])\n",
        "        Key = ''\n",
        "    for item in Check_list:\n",
        "        Key = Key + str(item)\n",
        "    return Key\n",
        "def CheckSecurity(Key,Akey,Checklength):\n",
        "    if Akey[-Checklength:] == Key[-Checklength:]:\n",
        "        print(\"The Connection is Secure with the probability of:\")\n",
        "        print((1-((3/4)**Checklength))*100)\n",
        "    else:\n",
        "        print(\"The Connection is not Secure!\")\n"
      ],
      "metadata": {
        "id": "NJ8JoHSnH-uy"
      },
      "execution_count": 38,
      "outputs": []
    },
    {
      "cell_type": "markdown",
      "source": [
        "\n",
        "\n",
        "---\n",
        "\n",
        "# Basic results\n",
        "\n",
        "---\n",
        "\n"
      ],
      "metadata": {
        "id": "hTZswK5ire4o"
      }
    },
    {
      "cell_type": "code",
      "source": [
        "Key = BB84(DitSequence,AliceBases,BobBases,EveBases,length,False,False)\n",
        "Key2 , EveKey = BB84(DitSequence,AliceBases,BobBases,EveBases,length,True,False)\n",
        "aliceKey= AliceKey(DitSequence,AliceBases,BobBases)"
      ],
      "metadata": {
        "id": "L4KixdnQvYH7"
      },
      "execution_count": 64,
      "outputs": []
    },
    {
      "cell_type": "code",
      "source": [
        "print(\"Bob's Key is: \",Key)\n",
        "print(\"Alice's Key is : \",aliceKey)\n",
        "print(\"Bob's Key is(Eve): \",Key2)"
      ],
      "metadata": {
        "colab": {
          "base_uri": "https://localhost:8080/"
        },
        "id": "VtdvU0z0vpnB",
        "outputId": "0788d70d-bddb-40a1-a1ff-2f12bb30b1f0"
      },
      "execution_count": 65,
      "outputs": [
        {
          "output_type": "stream",
          "name": "stdout",
          "text": [
            "Bob's Key is:  130001302\n",
            "Alice's Key is :  130001302\n",
            "Bob's Key is(Eve):  133001302\n"
          ]
        }
      ]
    },
    {
      "cell_type": "code",
      "source": [
        "num_errors = sum(bit1 != bit2 for bit1, bit2 in zip(Key2, aliceKey))\n",
        "print(num_errors)"
      ],
      "metadata": {
        "colab": {
          "base_uri": "https://localhost:8080/"
        },
        "id": "RNfQ9DgKCUy-",
        "outputId": "27623f83-4dde-4abd-84fb-80dd29b2730f"
      },
      "execution_count": 66,
      "outputs": [
        {
          "output_type": "stream",
          "name": "stdout",
          "text": [
            "1\n"
          ]
        }
      ]
    },
    {
      "cell_type": "code",
      "source": [
        "CheckSecurity(Key,aliceKey,30)"
      ],
      "metadata": {
        "colab": {
          "base_uri": "https://localhost:8080/"
        },
        "id": "WOhNNM_bwTsY",
        "outputId": "d011e07d-f9a6-4174-ae17-bc8009dd4b37"
      },
      "execution_count": 34,
      "outputs": [
        {
          "output_type": "stream",
          "name": "stdout",
          "text": [
            "The Connection is Secure with the probability of:\n",
            "99.98214179098301\n"
          ]
        }
      ]
    },
    {
      "cell_type": "code",
      "source": [
        "print(len(Key))"
      ],
      "metadata": {
        "id": "VZqITZgKwXq4",
        "colab": {
          "base_uri": "https://localhost:8080/"
        },
        "outputId": "a9b5330d-a64f-4fad-fc5e-cd528ad3d409"
      },
      "execution_count": 35,
      "outputs": [
        {
          "output_type": "stream",
          "name": "stdout",
          "text": [
            "38\n"
          ]
        }
      ]
    },
    {
      "cell_type": "code",
      "source": [
        "print(\"Bob's Key is: \",Key)\n",
        "print(\"Alice's Key is : \",aliceKey)\n",
        "print(\"Bob's Key is(Eve): \",Key2)\n",
        "print(\"Eve's Key is: \",EveKey)"
      ],
      "metadata": {
        "colab": {
          "base_uri": "https://localhost:8080/"
        },
        "id": "JzHo937cxgkK",
        "outputId": "f6984740-3173-483e-d8fa-667df3a7359a"
      },
      "execution_count": 36,
      "outputs": [
        {
          "output_type": "stream",
          "name": "stdout",
          "text": [
            "Bob's Key is:  30002331030020022123332130313230211030\n",
            "Alice's Key is :  30002331030020022123332130313230211030\n",
            "Bob's Key is(Eve):  30022331301302022103310330312230012030\n",
            "Eve's Key is:  30012331003330022113312230313230311030\n"
          ]
        }
      ]
    },
    {
      "cell_type": "code",
      "source": [
        "CheckSecurity(Key2,EveKey,33)"
      ],
      "metadata": {
        "colab": {
          "base_uri": "https://localhost:8080/"
        },
        "id": "Dvy4AzmtNkxS",
        "outputId": "daef6d93-6ad6-4e78-e16d-baa77b1f2abb"
      },
      "execution_count": 37,
      "outputs": [
        {
          "output_type": "stream",
          "name": "stdout",
          "text": [
            "The Connection is not Secure!\n"
          ]
        }
      ]
    },
    {
      "cell_type": "markdown",
      "source": [
        "\n",
        "\n",
        "---\n",
        "\n",
        "# Error Analyse\n",
        "\n",
        "---\n",
        "\n"
      ],
      "metadata": {
        "id": "m1xkRh_wr4S3"
      }
    },
    {
      "cell_type": "code",
      "source": [
        "#This Functions are for analizing our results\n",
        "def calculate_error_rate(results, AliceKeyS):\n",
        "    error_rates = []\n",
        "    sums = 0\n",
        "    results_length = len(results)\n",
        "\n",
        "\n",
        "    for i in range(results_length):\n",
        "        result = results[i]\n",
        "        alicekey = AliceKeyS[i]\n",
        "        # Compare each character in the strings and count the number of differences\n",
        "        num_errors = sum(bit1 != bit2 for bit1, bit2 in zip(result, alicekey))\n",
        "        # Calculate the error rate\n",
        "        key_length = len(alicekey)\n",
        "        error_rate = num_errors / key_length\n",
        "        sums = sums + error_rate\n",
        "        error_rates.append(error_rate)\n",
        "\n",
        "    return max(error_rates), min(error_rates) , sums/results_length"
      ],
      "metadata": {
        "id": "pi2AItfns17i"
      },
      "execution_count": 68,
      "outputs": []
    },
    {
      "cell_type": "code",
      "source": [
        "aliceKey= AliceKey(DitSequence,AliceBases,BobBases)\n",
        "results = []\n",
        "for _ in range(30):\n",
        "   result = BB84(DitSequence,AliceBases,BobBases,EveBases,length,False,True) # Call the BB84 function\n",
        "   results.append(result)\n",
        "print(results)"
      ],
      "metadata": {
        "id": "p1OXIU0F2yRd",
        "colab": {
          "base_uri": "https://localhost:8080/"
        },
        "outputId": "84cff611-6892-4e49-e8ee-d6f128a80a1b"
      },
      "execution_count": 8,
      "outputs": [
        {
          "output_type": "stream",
          "name": "stdout",
          "text": [
            "['210102002000211102022111222222100', '210102002000211102022111222222100', '210102002000211102022111222222100', '210102002000211102022111222222100', '210102002000211102022111222222100', '210102002000211102022111222222100', '210102002000211102022111222222100', '210102002000211102022111222222100', '210102002000211102022111222222100', '210102002000211102022111222222100', '210102002000211102022111222222100', '210102002000211102022111222222100', '210102002000211102022111222222100', '210102002000211102022111222222100', '210102002000211102022111222222100', '210102002000211102022111222222100', '210102002000211102022111222222100', '210102002000211102022111222222100', '210102002000211102022111222222100', '210102002000211102022111222222100', '210102002000211102022111222222100', '210102002000211102022111222222100', '210102002000211102022111222222100', '210102002000211102022111222222100', '210102002000211102022111222222100', '210102002000211102022111222222100', '210102002000211102022111222222100', '210102002000211102022111222222100', '210102002000211102022111222222100', '210102002000211102022111222222100']\n"
          ]
        }
      ]
    },
    {
      "cell_type": "markdown",
      "source": [
        "\n",
        "\n",
        "---\n",
        "\n",
        "## Basic Error results\n",
        "\n",
        "---\n",
        "\n"
      ],
      "metadata": {
        "id": "kEotPGCAtN0v"
      }
    },
    {
      "cell_type": "code",
      "source": [
        "\n",
        "error_rates , average = calculate_error_rate(results, aliceKey)\n",
        "print(\"Max Error rate:\", error_rates)\n",
        "print(\"Average of error : \", average)"
      ],
      "metadata": {
        "colab": {
          "base_uri": "https://localhost:8080/"
        },
        "id": "b8nGeQLNK7FH",
        "outputId": "9ab24783-230a-40b7-dbf4-1f3dd8dc098d"
      },
      "execution_count": 9,
      "outputs": [
        {
          "output_type": "stream",
          "name": "stdout",
          "text": [
            "Max Error rate: 0.36363636363636365\n",
            "Average of error :  0.3636363636363635\n"
          ]
        }
      ]
    },
    {
      "cell_type": "code",
      "source": [
        "aliceKey= AliceKey(DitSequence,AliceBases,BobBases)\n",
        "Everesults = []\n",
        "for _ in range(10):\n",
        "   result = BB84(DitSequence,AliceBases,BobBases,EveBases,length,True,False) # Call the BB84 function\n",
        "   Everesults.append(result)"
      ],
      "metadata": {
        "id": "lHzZSV98LGHp"
      },
      "execution_count": null,
      "outputs": []
    },
    {
      "cell_type": "code",
      "source": [
        "EveError_rates , EveAverage = calculate_error_rate(Everesults, aliceKey)\n",
        "print(\"Error rates:\", EveError_rates)\n",
        "print(\"Average of error : \", EveAverage)"
      ],
      "metadata": {
        "colab": {
          "base_uri": "https://localhost:8080/"
        },
        "id": "LasKNKrEPgEa",
        "outputId": "61d93404-9941-4244-925d-14e94f3895cd"
      },
      "execution_count": null,
      "outputs": [
        {
          "output_type": "stream",
          "name": "stdout",
          "text": [
            "Error rates: [0.2857142857142857, 0.2698412698412698, 0.30158730158730157, 0.3333333333333333, 0.2857142857142857, 0.3333333333333333, 0.31746031746031744, 0.36507936507936506, 0.3492063492063492, 0.30158730158730157]\n",
            "Average of error :  0.3142857142857143\n"
          ]
        }
      ]
    },
    {
      "cell_type": "markdown",
      "source": [
        "\n",
        "\n",
        "---\n",
        "\n",
        "## Length change\n",
        "\n",
        "---\n",
        "\n"
      ],
      "metadata": {
        "id": "HCmqeGhOShEX"
      }
    },
    {
      "cell_type": "markdown",
      "source": [
        "\n",
        "\n",
        "---\n",
        "\n",
        "### 16 Bit\n",
        "\n",
        "---\n",
        "\n"
      ],
      "metadata": {
        "id": "WU3UzyQaSwMl"
      }
    },
    {
      "cell_type": "code",
      "source": [
        "length=16\n",
        "DitSequence= [random.randint(0, 3) for _ in range(length)]\n",
        "AliceBases =[random.randint(0, 1) for _ in range(length)]\n",
        "BobBases = [random.randint(0, 1) for _ in range(length)]\n",
        "EveBases = [random.randint(0, 1) for _ in range(length)]\n",
        "aliceKey= AliceKey(DitSequence,AliceBases,BobBases)\n",
        "CleanResults = []\n",
        "ResultsWE = []\n",
        "EveResults = []\n",
        "CTResults = []\n",
        "CTResultsWE = []\n",
        "EveCTResults = []\n",
        "for _ in range(10):\n",
        "   # Without Eve and CrossTalk\n",
        "   result = BB84(DitSequence,AliceBases,BobBases,EveBases,length,False,False)\n",
        "   CleanResults.append(result)\n",
        "   #With Eve Without CrossTalk\n",
        "   resultWE, Everesult = BB84(DitSequence,AliceBases,BobBases,EveBases,length,True,False)\n",
        "   ResultsWE.append(resultWE)\n",
        "   EveResults.append(Everesult)\n",
        "   #With CrossTalk Witout Eve\n",
        "   CTresult = BB84(DitSequence,AliceBases,BobBases,EveBases,length,False,True)\n",
        "   CTResults.append(CTresult)\n",
        "   #With Eve and CrossTalk\n",
        "   CTresultWE, EveCTresult = BB84(DitSequence,AliceBases,BobBases,EveBases,length,True,True)\n",
        "   CTResultsWE.append(CTresultWE)\n",
        "   EveCTResults.append(EveCTresult)\n",
        "   CleanError_rates , CleanAverage = calculate_error_rate(CleanResults, aliceKey)\n",
        "Error_ratesWE , AverageWE = calculate_error_rate(ResultsWE, aliceKey)\n",
        "EveError_rates , EveAverage = calculate_error_rate(EveResults, aliceKey)\n",
        "CTError_rates , CTAverage = calculate_error_rate(CTResults, aliceKey)\n",
        "CTError_ratesWE , CTAverageWE = calculate_error_rate(CTResultsWE, aliceKey)\n",
        "EveCTError_rates , EveCTAverage = calculate_error_rate(EveCTResults, aliceKey)\n",
        "print(\"######Without Eve and CrossTalk######\")\n",
        "print(\"Max Error rate:\", CleanError_rates)\n",
        "print(\"Average of error : \", CleanAverage)\n",
        "print(\"\\n\\n######With Eve Without CrossTalk######\")\n",
        "print(\"Max Error rate:\", Error_ratesWE)\n",
        "print(\"Average of error : \", AverageWE)\n",
        "print(\"Eve's Max Error rate:\", EveError_rates)\n",
        "print(\"Eve's Average of error : \", EveAverage)\n",
        "print(\"\\n\\n#####Without Eve With CrossTalk#######\")\n",
        "print(\"Max Error rate:\", CTError_rates)\n",
        "print(\"Average of error : \", CTAverage)\n",
        "print(\"\\n\\n######With Eve and CrossTalk######\")\n",
        "print(\"Max Error rate:\", CTError_ratesWE)\n",
        "print(\"Average of error : \", CTAverageWE)\n",
        "print(\"Eve'sMax Error rate:\", EveCTError_rates)\n",
        "print(\"Eve's Average of error : \", EveCTAverage)\n"
      ],
      "metadata": {
        "colab": {
          "base_uri": "https://localhost:8080/"
        },
        "id": "0A7tSCM7Sej7",
        "outputId": "ea57524e-0cd3-4b9b-fd9e-37a4af53ba2b"
      },
      "execution_count": 47,
      "outputs": [
        {
          "output_type": "stream",
          "name": "stdout",
          "text": [
            "######Without Eve and CrossTalk######\n",
            "Max Error rate: 0.0\n",
            "Average of error :  0.0\n",
            "\n",
            "\n",
            "######With Eve Without CrossTalk######\n",
            "Max Error rate: 0.6666666666666666\n",
            "Average of error :  0.4888888888888888\n",
            "Eve's Max Error rate: 0.6666666666666666\n",
            "Eve's Average of error :  0.5444444444444444\n",
            "\n",
            "\n",
            "#####Without Eve With CrossTalk#######\n",
            "Max Error rate: 0.4444444444444444\n",
            "Average of error :  0.13333333333333336\n",
            "\n",
            "\n",
            "######With Eve and CrossTalk######\n",
            "Max Error rate: 0.8888888888888888\n",
            "Average of error :  0.5777777777777777\n",
            "Eve'sMax Error rate: 0.7777777777777778\n",
            "Eve's Average of error :  0.7\n"
          ]
        }
      ]
    },
    {
      "cell_type": "markdown",
      "source": [
        "\n",
        "\n",
        "---\n",
        "\n",
        "### 32 Bit\n",
        "\n",
        "---\n",
        "\n"
      ],
      "metadata": {
        "id": "Qhs3nrgtS-oT"
      }
    },
    {
      "cell_type": "code",
      "source": [
        "length=32\n",
        "DitSequence= [random.randint(0, 3) for _ in range(length)]\n",
        "AliceBases =[random.randint(0, 1) for _ in range(length)]\n",
        "BobBases = [random.randint(0, 1) for _ in range(length)]\n",
        "EveBases = [random.randint(0, 1) for _ in range(length)]\n",
        "aliceKey= AliceKey(DitSequence,AliceBases,BobBases)\n",
        "CleanResults = []\n",
        "ResultsWE = []\n",
        "EveResults = []\n",
        "CTResults = []\n",
        "CTResultsWE = []\n",
        "EveCTResults = []\n",
        "for _ in range(10):\n",
        "   # Without Eve and CrossTalk\n",
        "   result = BB84(DitSequence,AliceBases,BobBases,EveBases,length,False,False)\n",
        "   CleanResults.append(result)\n",
        "   #With Eve Without CrossTalk\n",
        "   resultWE, Everesult = BB84(DitSequence,AliceBases,BobBases,EveBases,length,True,False)\n",
        "   ResultsWE.append(resultWE)\n",
        "   EveResults.append(Everesult)\n",
        "   #With CrossTalk Witout Eve\n",
        "   CTresult = BB84(DitSequence,AliceBases,BobBases,EveBases,length,False,True)\n",
        "   CTResults.append(CTresult)\n",
        "   #With Eve and CrossTalk\n",
        "   CTresultWE, EveCTresult = BB84(DitSequence,AliceBases,BobBases,EveBases,length,True,True)\n",
        "   CTResultsWE.append(CTresultWE)\n",
        "   EveCTResults.append(EveCTresult)\n",
        "   CleanError_rates , CleanAverage = calculate_error_rate(CleanResults, aliceKey)\n",
        "Error_ratesWE , AverageWE = calculate_error_rate(ResultsWE, aliceKey)\n",
        "EveError_rates , EveAverage = calculate_error_rate(EveResults, aliceKey)\n",
        "CTError_rates , CTAverage = calculate_error_rate(CTResults, aliceKey)\n",
        "CTError_ratesWE , CTAverageWE = calculate_error_rate(CTResultsWE, aliceKey)\n",
        "EveCTError_rates , EveCTAverage = calculate_error_rate(EveCTResults, aliceKey)\n",
        "print(\"######Without Eve and CrossTalk######\")\n",
        "print(\"Max Error rate:\", CleanError_rates)\n",
        "print(\"Average of error : \", CleanAverage)\n",
        "print(\"\\n\\n######With Eve Without CrossTalk######\")\n",
        "print(\"Max Error rate:\", Error_ratesWE)\n",
        "print(\"Average of error : \", AverageWE)\n",
        "print(\"Eve's Max Error rate:\", EveError_rates)\n",
        "print(\"Eve's Average of error : \", EveAverage)\n",
        "print(\"\\n\\n#####Without Eve With CrossTalk#######\")\n",
        "print(\"Max Error rate:\", CTError_rates)\n",
        "print(\"Average of error : \", CTAverage)\n",
        "print(\"\\n\\n######With Eve and CrossTalk######\")\n",
        "print(\"Max Error rate:\", CTError_ratesWE)\n",
        "print(\"Average of error : \", CTAverageWE)\n",
        "print(\"Eve'sMax Error rate:\", EveCTError_rates)\n",
        "print(\"Eve's Average of error : \", EveCTAverage)\n"
      ],
      "metadata": {
        "colab": {
          "base_uri": "https://localhost:8080/"
        },
        "id": "qkoTi_LwSU5C",
        "outputId": "05bd9d21-17cb-4356-e1d8-04eb704820d7"
      },
      "execution_count": 44,
      "outputs": [
        {
          "output_type": "stream",
          "name": "stdout",
          "text": [
            "######Without Eve and CrossTalk######\n",
            "Max Error rate: 0.0\n",
            "Average of error :  0.0\n",
            "\n",
            "\n",
            "######With Eve Without CrossTalk######\n",
            "Max Error rate: 0.5882352941176471\n",
            "Average of error :  0.4882352941176471\n",
            "Eve's Max Error rate: 0.6470588235294118\n",
            "Eve's Average of error :  0.5235294117647059\n",
            "\n",
            "\n",
            "#####Without Eve With CrossTalk#######\n",
            "Max Error rate: 0.23529411764705882\n",
            "Average of error :  0.13529411764705884\n",
            "\n",
            "\n",
            "######With Eve and CrossTalk######\n",
            "Max Error rate: 0.7058823529411765\n",
            "Average of error :  0.5411764705882353\n",
            "Eve'sMax Error rate: 0.6470588235294118\n",
            "Eve's Average of error :  0.5470588235294118\n"
          ]
        }
      ]
    },
    {
      "cell_type": "markdown",
      "source": [
        "\n",
        "\n",
        "---\n",
        "\n",
        "### 64 Bit\n",
        "\n",
        "\n",
        "---\n",
        "\n"
      ],
      "metadata": {
        "id": "B3MNfXWPTCys"
      }
    },
    {
      "cell_type": "code",
      "source": [
        "length=64\n",
        "DitSS = []\n",
        "AliceBS =[]\n",
        "BobBS=[]\n",
        "EveBS=[]\n",
        "AliceKeyS =[]\n",
        "for i in range(100):\n",
        " DitSS.append([random.randint(0, 3) for _ in range(length)])\n",
        " AliceBS.append([random.randint(0, 1) for _ in range(length)])\n",
        " BobBS.append([random.randint(0, 1) for _ in range(length)])\n",
        " EveBS.append([random.randint(0, 1) for _ in range(length)])\n",
        " AliceKeyS.append(AliceKey(DitSS[i],AliceBS[i],BobBS[i]))\n",
        "CleanResults = []\n",
        "ResultsWE = []\n",
        "EveResults = []\n",
        "CTResults = []\n",
        "CTResultsWE = []\n",
        "EveCTResults = []\n",
        "for i in range(100):\n",
        "   # Without Eve and CrossTalk\n",
        "   result = BB84(DitSS[i],AliceBS[i],BobBS[i],EveBS[i],length,False,False)\n",
        "   CleanResults.append(result)\n",
        "   #With Eve Without CrossTalk\n",
        "   resultWE, Everesult = BB84(DitSS[i],AliceBS[i],BobBS[i],EveBS[i],length,True,False)\n",
        "   ResultsWE.append(resultWE)\n",
        "   EveResults.append(Everesult)\n",
        "   #With CrossTalk Witout Eve\n",
        "   CTresult = BB84(DitSS[i],AliceBS[i],BobBS[i],EveBS[i],length,False,True)\n",
        "   CTResults.append(CTresult)\n",
        "   #With Eve and CrossTalk\n",
        "   CTresultWE, EveCTresult = BB84(DitSS[i],AliceBS[i],BobBS[i],EveBS[i],length,True,True)\n",
        "   CTResultsWE.append(CTresultWE)\n",
        "   EveCTResults.append(EveCTresult)\n",
        "\n",
        "\n"
      ],
      "metadata": {
        "id": "QQ2IPhaISbtp"
      },
      "execution_count": null,
      "outputs": []
    },
    {
      "cell_type": "code",
      "source": [
        "CleanError_rates ,CleanMin, CleanAverage = calculate_error_rate(CleanResults, AliceKeyS)\n",
        "Error_ratesWE ,MinWE, AverageWE = calculate_error_rate(ResultsWE,AliceKeyS )\n",
        "EveError_rates ,EveMin, EveAverage = calculate_error_rate(EveResults, AliceKeyS)\n",
        "CTError_rates , CTMin,CTAverage = calculate_error_rate(CTResults, AliceKeyS)\n",
        "CTError_ratesWE , CTMinWE,CTAverageWE = calculate_error_rate(CTResultsWE,AliceKeyS)\n",
        "EveCTError_rates , EveCTMin,EveCTAverage = calculate_error_rate(EveCTResults,AliceKeyS)\n",
        "print(\"######Without Eve and CrossTalk######\")\n",
        "print(\"Max Error rate:\", CleanError_rates)\n",
        "print(\"Min Error rate:\", CleanMin)\n",
        "print(\"Average of error : \", CleanAverage)\n",
        "print(\"\\n\\n######With Eve Without CrossTalk######\")\n",
        "print(\"Max Error rate:\", Error_ratesWE)\n",
        "print(\"Min Error rate:\", MinWE)\n",
        "print(\"Average of error : \", AverageWE)\n",
        "print(\"Eve's Max Error rate:\", EveError_rates)\n",
        "print(\"Eve's Min Error rate:\", EveMin)\n",
        "print(\"Eve's Average of error : \", EveAverage)\n",
        "print(\"\\n\\n#####Without Eve With CrossTalk#######\")\n",
        "print(\"Max Error rate:\", CTError_rates)\n",
        "print(\"Min Error rate:\", CTMin)\n",
        "print(\"Average of error : \", CTAverage)\n",
        "print(\"\\n\\n######With Eve and CrossTalk######\")\n",
        "print(\"Max Error rate:\", CTError_ratesWE)\n",
        "print(\"Min Error rate:\", CTMinWE)\n",
        "print(\"Average of error : \", CTAverageWE)\n",
        "print(\"Eve'sMax Error rate:\", EveCTError_rates)\n",
        "print(\"Eve's Min Error rate:\", CleanMin)\n",
        "print(\"Eve's Average of error : \", EveCTAverage)"
      ],
      "metadata": {
        "colab": {
          "base_uri": "https://localhost:8080/"
        },
        "id": "i0FhrjrAtBaW",
        "outputId": "0cb25ad5-ce05-4127-f767-b38be64ac8da"
      },
      "execution_count": 69,
      "outputs": [
        {
          "output_type": "stream",
          "name": "stdout",
          "text": [
            "######Without Eve and CrossTalk######\n",
            "Max Error rate: 0.0\n",
            "Min Error rate: 0.0\n",
            "Average of error :  0.0\n",
            "\n",
            "\n",
            "######With Eve Without CrossTalk######\n",
            "Max Error rate: 0.6285714285714286\n",
            "Min Error rate: 0.14285714285714285\n",
            "Average of error :  0.3809400164147009\n",
            "Eve's Max Error rate: 0.5714285714285714\n",
            "Eve's Min Error rate: 0.25\n",
            "Eve's Average of error :  0.39109044719379293\n",
            "\n",
            "\n",
            "#####Without Eve With CrossTalk#######\n",
            "Max Error rate: 0.3142857142857143\n",
            "Min Error rate: 0.0\n",
            "Average of error :  0.14534804086920894\n",
            "\n",
            "\n",
            "######With Eve and CrossTalk######\n",
            "Max Error rate: 0.6551724137931034\n",
            "Min Error rate: 0.27586206896551724\n",
            "Average of error :  0.45933256076776713\n",
            "Eve'sMax Error rate: 0.6285714285714286\n",
            "Eve's Min Error rate: 0.0\n",
            "Eve's Average of error :  0.43038109557166243\n"
          ]
        }
      ]
    },
    {
      "cell_type": "code",
      "source": [],
      "metadata": {
        "id": "p_artslPA_V6"
      },
      "execution_count": null,
      "outputs": []
    },
    {
      "cell_type": "markdown",
      "source": [
        "\n",
        "\n",
        "---\n",
        "\n",
        "### 128 Bit\n",
        "\n",
        "---\n",
        "\n"
      ],
      "metadata": {
        "id": "Z11ogHA5TIGh"
      }
    },
    {
      "cell_type": "code",
      "source": [
        "length=128\n",
        "DitSequence= [random.randint(0, 3) for _ in range(length)]\n",
        "AliceBases =[random.randint(0, 1) for _ in range(length)]\n",
        "BobBases = [random.randint(0, 1) for _ in range(length)]\n",
        "EveBases = [random.randint(0, 1) for _ in range(length)]\n",
        "aliceKey= AliceKey(DitSequence,AliceBases,BobBases)\n",
        "CleanResults = []\n",
        "ResultsWE = []\n",
        "EveResults = []\n",
        "CTResults = []\n",
        "CTResultsWE = []\n",
        "EveCTResults = []\n",
        "for _ in range(10):\n",
        "   # Without Eve and CrossTalk\n",
        "   result = BB84(DitSequence,AliceBases,BobBases,EveBases,length,False,False)\n",
        "   CleanResults.append(result)\n",
        "   #With Eve Without CrossTalk\n",
        "   resultWE, Everesult = BB84(DitSequence,AliceBases,BobBases,EveBases,length,True,False)\n",
        "   ResultsWE.append(resultWE)\n",
        "   EveResults.append(Everesult)\n",
        "   #With CrossTalk Witout Eve\n",
        "   CTresult = BB84(DitSequence,AliceBases,BobBases,EveBases,length,False,True)\n",
        "   CTResults.append(CTresult)\n",
        "   #With Eve and CrossTalk\n",
        "   CTresultWE, EveCTresult = BB84(DitSequence,AliceBases,BobBases,EveBases,length,True,True)\n",
        "   CTResultsWE.append(CTresultWE)\n",
        "   EveCTResults.append(EveCTresult)\n",
        "   CleanError_rates , CleanAverage = calculate_error_rate(CleanResults, aliceKey)\n",
        "Error_ratesWE , AverageWE = calculate_error_rate(ResultsWE, aliceKey)\n",
        "EveError_rates , EveAverage = calculate_error_rate(EveResults, aliceKey)\n",
        "CTError_rates , CTAverage = calculate_error_rate(CTResults, aliceKey)\n",
        "CTError_ratesWE , CTAverageWE = calculate_error_rate(CTResultsWE, aliceKey)\n",
        "EveCTError_rates , EveCTAverage = calculate_error_rate(EveCTResults, aliceKey)\n",
        "print(\"######Without Eve and CrossTalk######\")\n",
        "print(\"Max Error rate:\", CleanError_rates)\n",
        "print(\"Average of error : \", CleanAverage)\n",
        "print(\"\\n\\n######With Eve Without CrossTalk######\")\n",
        "print(\"Max Error rate:\", Error_ratesWE)\n",
        "print(\"Average of error : \", AverageWE)\n",
        "print(\"Eve's Max Error rate:\", EveError_rates)\n",
        "print(\"Eve's Average of error : \", EveAverage)\n",
        "print(\"\\n\\n#####Without Eve With CrossTalk#######\")\n",
        "print(\"Max Error rate:\", CTError_rates)\n",
        "print(\"Average of error : \", CTAverage)\n",
        "print(\"\\n\\n######With Eve and CrossTalk######\")\n",
        "print(\"Max Error rate:\", CTError_ratesWE)\n",
        "print(\"Average of error : \", CTAverageWE)\n",
        "print(\"Eve'sMax Error rate:\", EveCTError_rates)\n",
        "print(\"Eve's Average of error : \", EveCTAverage)\n"
      ],
      "metadata": {
        "colab": {
          "base_uri": "https://localhost:8080/"
        },
        "id": "RcdPFVFIScze",
        "outputId": "b48656e6-6c6a-4e43-ecba-51110dd58b2e"
      },
      "execution_count": 46,
      "outputs": [
        {
          "output_type": "stream",
          "name": "stdout",
          "text": [
            "######Without Eve and CrossTalk######\n",
            "Max Error rate: 0.0\n",
            "Average of error :  0.0\n",
            "\n",
            "\n",
            "######With Eve Without CrossTalk######\n",
            "Max Error rate: 0.38596491228070173\n",
            "Average of error :  0.3385964912280702\n",
            "Eve's Max Error rate: 0.42105263157894735\n",
            "Eve's Average of error :  0.3385964912280702\n",
            "\n",
            "\n",
            "#####Without Eve With CrossTalk#######\n",
            "Max Error rate: 0.15789473684210525\n",
            "Average of error :  0.13157894736842107\n",
            "\n",
            "\n",
            "######With Eve and CrossTalk######\n",
            "Max Error rate: 0.5087719298245614\n",
            "Average of error :  0.41052631578947363\n",
            "Eve'sMax Error rate: 0.47368421052631576\n",
            "Eve's Average of error :  0.3929824561403509\n"
          ]
        }
      ]
    },
    {
      "cell_type": "markdown",
      "source": [
        "\n",
        "\n",
        "---\n",
        "\n",
        "# This Section is for Heat maps\n",
        "\n",
        "(for running this part set the shots to 1000)\n",
        "\n",
        "---\n",
        "\n"
      ],
      "metadata": {
        "id": "FxiFx5gxrNdE"
      }
    },
    {
      "cell_type": "code",
      "source": [
        "def State_Probabilty_Visualization(CrossT):\n",
        "  ListOfCounts = []\n",
        "  Dits = [0,1,2,3]\n",
        "  SenderBasis = [0,1]\n",
        "  ReciverBasis = [0,1]\n",
        "  for SBasis in SenderBasis:\n",
        "    for  Dit in Dits:\n",
        "      for RBasis in ReciverBasis:\n",
        "        Qudit = QuditCircuit(4,1)\n",
        "        Qudit = Modulation(Qudit,Dit,SBasis)\n",
        "        CrossTalk(Qudit) if CrossT else None\n",
        "        ReciviengSinglePhoton(Qudit,RBasis)\n",
        "        counts = Qudit.Counts2\n",
        "        for key in counts:\n",
        "          counts[key] /= 1000\n",
        "        for NDit in Dits:\n",
        "          if str(NDit) not in counts:\n",
        "            counts[str(NDit)] = 0.0\n",
        "        ListOfCounts.append(counts)\n",
        "  propmatrix = np.zeros((8,8))\n",
        "  j = 0\n",
        "  k = 0\n",
        "  for i in ListOfCounts:\n",
        "    propmatrix[k,j]= i['0']\n",
        "    propmatrix[k,j+1] = i['1']\n",
        "    propmatrix[k,j+2]= i['2']\n",
        "    propmatrix[k,j+3] = i['3']\n",
        "    j += 4\n",
        "    if j >= 8 :\n",
        "      j = 0\n",
        "      k += 1\n",
        "  return propmatrix"
      ],
      "metadata": {
        "id": "036VVskuPxE0"
      },
      "execution_count": null,
      "outputs": []
    },
    {
      "cell_type": "code",
      "source": [
        "propmat = State_Probabilty_Visualization(False)\n",
        "propmat2 = State_Probabilty_Visualization(True)"
      ],
      "metadata": {
        "id": "8eMkW6ebuD8A"
      },
      "execution_count": null,
      "outputs": []
    },
    {
      "cell_type": "code",
      "source": [
        "print(\"Without CrossTalk : \\n\",propmat,\"\\n\\n################\\n\\nWith CrossTalk :\\n\",propmat2)"
      ],
      "metadata": {
        "colab": {
          "base_uri": "https://localhost:8080/"
        },
        "id": "l021OxlVuaT7",
        "outputId": "2ac0afea-4a1d-4338-f306-00c21abb291d"
      },
      "execution_count": null,
      "outputs": [
        {
          "output_type": "stream",
          "name": "stdout",
          "text": [
            "Without CrossTalk : \n",
            " [[1.    0.    0.    0.    0.257 0.247 0.218 0.278]\n",
            " [0.    1.    0.    0.    0.243 0.243 0.245 0.269]\n",
            " [0.    0.    1.    0.    0.236 0.245 0.259 0.26 ]\n",
            " [0.    0.    0.    1.    0.226 0.262 0.266 0.246]\n",
            " [0.27  0.246 0.238 0.246 1.    0.    0.    0.   ]\n",
            " [0.261 0.24  0.254 0.245 0.    1.    0.    0.   ]\n",
            " [0.25  0.255 0.234 0.261 0.    0.    1.    0.   ]\n",
            " [0.285 0.251 0.219 0.245 0.    0.    0.    1.   ]] \n",
            "\n",
            "################\n",
            "\n",
            "With CrossTalk :\n",
            " [[0.813 0.187 0.    0.    0.259 0.438 0.245 0.058]\n",
            " [0.193 0.807 0.    0.    0.246 0.057 0.269 0.428]\n",
            " [0.    0.    0.805 0.195 0.287 0.427 0.233 0.053]\n",
            " [0.    0.    0.201 0.799 0.264 0.044 0.257 0.435]\n",
            " [0.238 0.26  0.24  0.262 1.    0.    0.    0.   ]\n",
            " [0.055 0.431 0.057 0.457 0.    0.803 0.    0.197]\n",
            " [0.26  0.247 0.249 0.244 0.    0.    1.    0.   ]\n",
            " [0.448 0.063 0.435 0.054 0.    0.198 0.    0.802]]\n"
          ]
        }
      ]
    },
    {
      "cell_type": "code",
      "source": [
        "# Plot the heatmap\n",
        "plt.imshow(propmat, cmap='afmhot', interpolation='nearest')\n",
        "plt.xticks(ticks=[0, 1, 2, 3, 4, 5, 6, 7], labels=[\"|Ψ0⟩\", \"|Ψ1⟩\", \"|Ψ2⟩\", \"|Ψ3⟩\" ,\"|Φ0⟩\", \"|Φ1⟩\",\"|Φ2⟩\", \"|Φ3⟩\"])\n",
        "plt.yticks(ticks=[0, 1, 2, 3, 4, 5, 6, 7], labels=[\"|Ψ0⟩\", \"|Ψ1⟩\", \"|Ψ2⟩\", \"|Ψ3⟩\" ,\"|Φ0⟩\", \"|Φ1⟩\",\"|Φ2⟩\", \"|Φ3⟩\"])\n",
        "# Add color bar\n",
        "plt.colorbar()\n",
        "\n",
        "# Show the plot\n",
        "plt.show()\n",
        "# Plot the heatmap\n",
        "plt.imshow(propmat2, cmap='afmhot', interpolation='nearest')\n",
        "plt.xticks(ticks=[0, 1, 2, 3, 4, 5, 6, 7], labels=[\"|Ψ0⟩\", \"|Ψ1⟩\", \"|Ψ2⟩\", \"|Ψ3⟩\" ,\"|Φ0⟩\", \"|Φ1⟩\",\"|Φ2⟩\", \"|Φ3⟩\"])\n",
        "plt.yticks(ticks=[0, 1, 2, 3, 4, 5, 6, 7], labels=[\"|Ψ0⟩\", \"|Ψ1⟩\", \"|Ψ2⟩\", \"|Ψ3⟩\" ,\"|Φ0⟩\", \"|Φ1⟩\",\"|Φ2⟩\", \"|Φ3⟩\"])\n",
        "# Add color bar\n",
        "plt.colorbar()\n",
        "\n",
        "# Show the plot\n",
        "plt.show()"
      ],
      "metadata": {
        "colab": {
          "base_uri": "https://localhost:8080/",
          "height": 855
        },
        "id": "XGY3ajUIv4lR",
        "outputId": "954ead33-e223-475f-d594-3ba164a27e3a"
      },
      "execution_count": null,
      "outputs": [
        {
          "output_type": "display_data",
          "data": {
            "text/plain": [
              "<Figure size 640x480 with 2 Axes>"
            ],
            "image/png": "[encoded data removed]"
          },
          "metadata": {}
        },
        {
          "output_type": "display_data",
          "data": {
            "text/plain": [
              "<Figure size 640x480 with 2 Axes>"
            ],
            "image/png": "[encoded data removed]"
          },
          "metadata": {}
        }
      ]
    },
    {
      "cell_type": "markdown",
      "source": [
        "\n",
        "\n",
        "---\n",
        "\n",
        "\n",
        "# Debug and Test Section\n",
        "---\n",
        "\n"
      ],
      "metadata": {
        "id": "wJ4A40WX5hz7"
      }
    },
    {
      "cell_type": "code",
      "source": [
        "circuit =  QuantumCircuit(2,2)\n",
        "circuit.x(1)\n",
        "circuit.h(1)\n",
        "circuit.x(0)\n",
        "circuit.h(0)\n",
        "circuit.s(0)\n",
        "# ---- MEAsure\n",
        "csgate = SdgGate().control(1)\n",
        "circuit.h(1)\n",
        "circuit.append(csgate, [1, 0])\n",
        "circuit.h(0)\n",
        "circuit.cx(1,0)\n",
        "circuit.cx(0,1)\n",
        "circuit.cx(1,0)\n",
        "circuit.measure([0,1], [0,1])\n",
        "simulator = Aer.get_backend('qasm_simulator')\n",
        "# Execute the circuit on the qasm simulator\n",
        "new_circuit = transpile(circuit, simulator)\n",
        "job = simulator.run(new_circuit, shots = 1000)\n",
        "# Grab results from the job\n",
        "result = job.result()\n",
        "# Return count\n",
        "Counts = result.get_counts(circuit)"
      ],
      "metadata": {
        "id": "xY6tl4B9zRM9"
      },
      "execution_count": null,
      "outputs": []
    },
    {
      "cell_type": "code",
      "source": [
        "print(Counts)"
      ],
      "metadata": {
        "colab": {
          "base_uri": "https://localhost:8080/"
        },
        "id": "nAu1yNO29tqd",
        "outputId": "f91b155f-8001-4bed-ae27-0b9c4a70be39"
      },
      "execution_count": null,
      "outputs": [
        {
          "output_type": "stream",
          "name": "stdout",
          "text": [
            "{'11': 1000}\n"
          ]
        }
      ]
    },
    {
      "cell_type": "code",
      "source": [],
      "metadata": {
        "id": "DwnTyOKK9wCa"
      },
      "execution_count": null,
      "outputs": []
    }
  ]
}