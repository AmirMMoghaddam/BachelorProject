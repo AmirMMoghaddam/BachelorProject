{
  "nbformat": 4,
  "nbformat_minor": 0,
  "metadata": {
    "colab": {
      "provenance": []
    },
    "kernelspec": {
      "name": "python3",
      "display_name": "Python 3"
    },
    "language_info": {
      "name": "python"
    }
  },
  "cells": [
    {
      "cell_type": "code",
      "execution_count": null,
      "metadata": {
        "id": "47uyPQAKLhVd"
      },
      "outputs": [],
      "source": [
        "pip install qiskit qiskit_aer"
      ]
    },
    {
      "cell_type": "code",
      "source": [
        "from qiskit import QuantumRegister, ClassicalRegister, QuantumCircuit\n",
        "from qiskit.visualization import *\n",
        "from numpy import pi\n",
        "import numpy as np\n",
        "import math\n",
        "from qiskit_aer import Aer\n",
        "from qiskit import transpile\n",
        "import qiskit.quantum_info as qi\n",
        "import random"
      ],
      "metadata": {
        "id": "O27XCq6BRPQx"
      },
      "execution_count": null,
      "outputs": []
    },
    {
      "cell_type": "code",
      "source": [
        "def base4_sort(key):\n",
        "    return int(key, 4)\n",
        "class QuditCircuit:\n",
        "    def __init__(self, d, n):\n",
        "        # Calculate the total number of qubits\n",
        "        self.num_qudits = n\n",
        "        self.dimension = d\n",
        "        self.num_qubits = n * d/2\n",
        "        self.Counts = []\n",
        "        self.Counts2 = []\n",
        "        # Create a QuantumCircuit object with the specified dimensions\n",
        "        self.circuit = QuantumCircuit(self.num_qubits, self.num_qubits)\n",
        "\n",
        "    def measure(self):\n",
        "        # Add a barrier to separate the measurement operations\n",
        "        self.circuit.barrier()\n",
        "        # Measure all qubits\n",
        "        qubit_indices = list(range(int(self.num_qubits)))\n",
        "        self.circuit.measure(qubit_indices, qubit_indices)\n",
        "    def uniform(self):\n",
        "      for i in range(0, int(self.num_qubits)):\n",
        "        self.circuit.h(i)\n",
        "    def CrossTalk(self,Gate):\n",
        "      CT_Gate = qi.Operator(Gate)\n",
        "      for i in range(0, int(self.num_qubits), 2):\n",
        "        self.circuit.unitary(CT_Gate, [i,i+1], label=\"CrossTalk\")\n",
        "    def Translate(self):\n",
        "      # Translate each key into the desired format\n",
        "      translated_data = {}\n",
        "      for key, value in self.Counts.items():\n",
        "          translated_key = ''.join([str(int(key[i:i+2], 2)) for i in range(0, len(key), 2)])\n",
        "          translated_data[translated_key] = value\n",
        "      sorted_data = {k: v for k, v in sorted(translated_data.items(), key=lambda item: base4_sort(item[0]))}\n",
        "      self.Counts2 = sorted_data\n",
        "    def run(self):\n",
        "      # Use Aer's qasm_simulator\n",
        "      simulator = Aer.get_backend('qasm_simulator')\n",
        "      # Execute the circuit on the qasm simulator\n",
        "      new_circuit = transpile(self.circuit, simulator)\n",
        "      job = simulator.run(new_circuit)\n",
        "      # Grab results from the job\n",
        "      result = job.result()\n",
        "      # Return counts\n",
        "      self.Counts = result.get_counts(self.circuit)\n",
        "      self.Translate()\n",
        "    def test(self):\n",
        "      self.circuit.x(1)"
      ],
      "metadata": {
        "id": "6GhiZyAYRcvm"
      },
      "execution_count": null,
      "outputs": []
    },
    {
      "cell_type": "code",
      "source": [
        "def is_unitary(m):\n",
        "    return np.allclose(np.eye(m.shape[0]), m.H * m)"
      ],
      "metadata": {
        "id": "JnG73Gjdacq4"
      },
      "execution_count": null,
      "outputs": []
    },
    {
      "cell_type": "code",
      "source": [
        "Gate = [[0.9,math.sqrt(19/100)*1j,0,0],\n",
        "        [math.sqrt(19/100)*1j,0.9,0,0],\n",
        "        [0,0,0.9,math.sqrt(19/100)*1j],\n",
        "        [0,0,math.sqrt(19/100)*1j,0.9]]"
      ],
      "metadata": {
        "id": "bq_sVVaKZxQ9"
      },
      "execution_count": null,
      "outputs": []
    },
    {
      "cell_type": "code",
      "source": [
        "print(Gate)"
      ],
      "metadata": {
        "colab": {
          "base_uri": "https://localhost:8080/"
        },
        "id": "ZUUKsUyAaykO",
        "outputId": "8cc317ec-0a64-4574-e05e-bc780bf36144"
      },
      "execution_count": null,
      "outputs": [
        {
          "output_type": "stream",
          "name": "stdout",
          "text": [
            "[[0.9, 0.43588989435406733j, 0, 0], [0.43588989435406733j, 0.9, 0, 0], [0, 0, 0.9, 0.43588989435406733j], [0, 0, 0.43588989435406733j, 0.9]]\n"
          ]
        }
      ]
    },
    {
      "cell_type": "code",
      "source": [
        "is_unitary(np.matrix(Gate))"
      ],
      "metadata": {
        "colab": {
          "base_uri": "https://localhost:8080/"
        },
        "id": "CG4_OWgDaql5",
        "outputId": "d5d1ab95-50ea-4e50-b4f2-15742ee64ce8"
      },
      "execution_count": null,
      "outputs": [
        {
          "output_type": "execute_result",
          "data": {
            "text/plain": [
              "True"
            ]
          },
          "metadata": {},
          "execution_count": 25
        }
      ]
    },
    {
      "cell_type": "code",
      "source": [
        "Qcircuit = QuditCircuit(4,1)\n",
        "Qcircuit.CrossTalk(Gate)\n",
        "Qcircuit.measure()"
      ],
      "metadata": {
        "id": "HWArcV4DVSdJ"
      },
      "execution_count": null,
      "outputs": []
    },
    {
      "cell_type": "code",
      "source": [
        "Qcircuit.run()"
      ],
      "metadata": {
        "id": "6LCFlAXiVpEK"
      },
      "execution_count": null,
      "outputs": []
    },
    {
      "cell_type": "code",
      "source": [
        "print(Qcircuit.Counts)"
      ],
      "metadata": {
        "colab": {
          "base_uri": "https://localhost:8080/"
        },
        "id": "3K_a11cTWeJj",
        "outputId": "464f9f19-550e-4ab1-95de-92ea76ff7ccb"
      },
      "execution_count": null,
      "outputs": [
        {
          "output_type": "stream",
          "name": "stdout",
          "text": [
            "{'01': 214, '00': 810}\n"
          ]
        }
      ]
    },
    {
      "cell_type": "code",
      "source": [
        "print(Qcircuit.Counts2)"
      ],
      "metadata": {
        "colab": {
          "base_uri": "https://localhost:8080/"
        },
        "id": "XfUQNx2YWkW1",
        "outputId": "81655052-cce8-433c-8f13-b3dcdf5244e8"
      },
      "execution_count": null,
      "outputs": [
        {
          "output_type": "stream",
          "name": "stdout",
          "text": [
            "{'0': 811, '1': 213}\n"
          ]
        }
      ]
    },
    {
      "cell_type": "code",
      "source": [],
      "metadata": {
        "id": "OnINVentaZVx"
      },
      "execution_count": null,
      "outputs": []
    }
  ]
}