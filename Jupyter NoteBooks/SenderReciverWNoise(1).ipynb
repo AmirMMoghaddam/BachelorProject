{
  "cells": [
    {
      "cell_type": "markdown",
      "source": [
        "Quantum Communication Sender and Receiver Simulation Report\n",
        "\n",
        "Introduction\n",
        "\n",
        "The simulation represents a basic quantum communication sender and receiver system, utilizing the polarization of single photons as qubits. The objective is to encode, transmit, receive, and measure quantum states while accounting for noise and implementing error correction mechanisms."
      ],
      "metadata": {
        "id": "GmVOI0lfRH8K"
      },
      "id": "GmVOI0lfRH8K"
    },
    {
      "cell_type": "code",
      "execution_count": null,
      "id": "5be7c99a-c282-486b-baa5-894eb77c034b",
      "metadata": {
        "tags": [],
        "id": "5be7c99a-c282-486b-baa5-894eb77c034b"
      },
      "outputs": [],
      "source": [
        "from qiskit import QuantumRegister, ClassicalRegister, QuantumCircuit\n",
        "from qiskit.visualization import *\n",
        "from ibm_quantum_widgets import *\n",
        "from numpy import pi\n",
        "from qiskit_aer import Aer\n",
        "from qiskit import transpile\n",
        "import random\n",
        "\n",
        "#A function for generating a random sequense\n",
        "def generate_random_sequence(length):\n",
        "    return [random.randint(0, 1) for _ in range(length)]\n"
      ]
    },
    {
      "cell_type": "code",
      "execution_count": null,
      "id": "31aa11d6-beac-4c59-95bc-f3f7403d8cc3",
      "metadata": {
        "tags": [],
        "id": "31aa11d6-beac-4c59-95bc-f3f7403d8cc3",
        "outputId": "d063ff88-25c2-41d6-fa8a-6c899ac81b8b"
      },
      "outputs": [
        {
          "name": "stdout",
          "output_type": "stream",
          "text": [
            "[1, 0, 0, 0, 1]\n"
          ]
        }
      ],
      "source": [
        "#The length of the sequence\n",
        "length=5\n",
        "random_sequence = generate_random_sequence(length)\n",
        "print(random_sequence)\n"
      ]
    },
    {
      "cell_type": "markdown",
      "source": [
        "1. Encoding and Decoding Functions\n",
        "\n",
        "These functions handle the preparation of qubits for transmission and their decoding upon reception.\n",
        "\n",
        "    Encoding Function:\n",
        "        Purpose: Encodes a single qubit into the Shor algorithm set of qubits.\n",
        "        Functionality: Applies operations for phase and bit flips to encode the qubit.\n",
        "\n",
        "    Decoding Function:\n",
        "        Purpose: Decodes the received qubits back to the single-qubit state.\n",
        "        Functionality: Reverses the operations performed during encoding.\n",
        "\n",
        "2. Error Correction\n",
        "\n",
        "Error correction mechanisms are essential to ensure the accuracy and reliability of transmitted quantum information.\n",
        "\n",
        "    Bit Parity Check Function:\n",
        "        Purpose: Checks for parity errors in the bit-flip encoding.\n",
        "        Functionality: Applies CNOT gates to check the parity between qubits.\n",
        "\n",
        "    Bit Correction Block Function:\n",
        "        Purpose: Corrects errors identified by the bit parity check.\n",
        "        Functionality: Applies conditional operations to correct errors based on the parity syndrome.\n",
        "\n",
        "    Bit Error Correction Function:\n",
        "        Purpose: Implements error correction using the Shor code.\n",
        "        Functionality: Utilizes the bit parity check and correction block functions for error correction.\n",
        "\n",
        "3. Phase Correction\n",
        "\n",
        "Phase correction mechanisms ensure the integrity of the phase-flip encoding.\n",
        "\n",
        "    Phase Parity Check Function:\n",
        "        Purpose: Checks for parity errors in the phase-flip encoding.\n",
        "        Functionality: Stores the data, checks parity, and restores the encoded form.\n",
        "\n",
        "    Phase Correction Block Function:\n",
        "        Purpose: Corrects errors identified by the phase parity check.\n",
        "        Functionality: Applies conditional operations to correct errors based on the parity syndrome.\n",
        "\n",
        "    Phase Error Correction Function:\n",
        "        Purpose: Implements error correction for phase-flip errors.\n",
        "        Functionality: Utilizes the phase parity check and correction block functions for error correction.\n",
        "\n",
        "4. Noise Model\n",
        "\n",
        "The noise model introduces errors into the quantum states, mimicking real-world noise sources.\n",
        "\n",
        "    Bit Noise Function:\n",
        "        Purpose: Introduces partial bit flip noise to the qubits.\n",
        "        Functionality: Applies rotation gates to induce bit flip errors.\n",
        "\n",
        "    Phase Noise Function:\n",
        "        Purpose: Introduces partial phase flip noise to the qubits.\n",
        "        Functionality: Applies rotation gates to induce phase flip errors."
      ],
      "metadata": {
        "id": "zjPmjPh2RV7l"
      },
      "id": "zjPmjPh2RV7l"
    },
    {
      "cell_type": "code",
      "execution_count": null,
      "id": "b920077c-1dd9-40b3-a4ed-02820dfa844d",
      "metadata": {
        "tags": [],
        "id": "b920077c-1dd9-40b3-a4ed-02820dfa844d"
      },
      "outputs": [],
      "source": [
        "#defining all the ShorCodes function\n",
        "#This function uses one Logical qubit to encode 8 other qubits so that we can use it for bit and phase flip encoding\n",
        "def Encoding(cir):\n",
        "    # Phase- flip\n",
        "    cir.cx(8,5)\n",
        "    cir.cx(8,2)\n",
        "    cir.h(2)\n",
        "    cir.h(5)\n",
        "    cir.h(8)\n",
        "    #Bit-flip\n",
        "    cir.cx(8,6)\n",
        "    cir.cx(8,7)\n",
        "    cir.cx(5,3)\n",
        "    cir.cx(5,4)\n",
        "    cir.cx(2,0)\n",
        "    cir.cx(2,1)\n",
        "    return cir\n",
        "#This function Decodes the qubits so it can be used again\n",
        "def Decoding(cir):\n",
        "    #Bit-flip\n",
        "    cir.cx(8,6)\n",
        "    cir.cx(8,7)\n",
        "    cir.cx(5,3)\n",
        "    cir.cx(5,4)\n",
        "    cir.cx(2,0)\n",
        "    cir.cx(2,1)\n",
        "    #Phase-flip\n",
        "    cir.h(2)\n",
        "    cir.h(5)\n",
        "    cir.h(8)\n",
        "    cir.cx(8,5)\n",
        "    cir.cx(8,2)\n",
        "    return cir\n",
        "#Its time for bit flip for that we use a parity check function\n",
        "def BitParityCheck(cir,SQubit,AuxQubit):\n",
        "    cir.cx(SQubit,AuxQubit)\n",
        "    cir.cx(SQubit+1,AuxQubit)\n",
        "    cir.cx(SQubit+1,AuxQubit+1)\n",
        "    cir.cx(SQubit+2,AuxQubit+1)\n",
        "    return cir\n",
        "#And We need a CorrectionBlock\n",
        "def BitCorrectionBlock(cir,SQubit,AuxQubit):\n",
        "    cir.x(AuxQubit)\n",
        "    cir.ccx(AuxQubit+1,AuxQubit,SQubit+2)\n",
        "    cir.x(AuxQubit)\n",
        "    cir.ccx(AuxQubit+1,AuxQubit,SQubit+1)\n",
        "    cir.x(AuxQubit+1)\n",
        "    cir.ccx(AuxQubit+1,AuxQubit,SQubit)\n",
        "    cir.x(AuxQubit+1)\n",
        "    cir.measure(AuxQubit,AuxQubit)\n",
        "    cir.measure(AuxQubit+1,AuxQubit+1)\n",
        "    cir.reset(AuxQubit)\n",
        "    cir.reset(AuxQubit+1)\n",
        "    return cir\n",
        "#Now bringing it all toghether we construct the Error Correction function\n",
        "def BitErrorCorrection(cir,AuxQubit):\n",
        "    for i in range(3):\n",
        "        cir = BitParityCheck(cir,i*3,AuxQubit)\n",
        "        cir.barrier()\n",
        "        cir = BitCorrectionBlock(cir,i*3,AuxQubit)\n",
        "    return cir\n",
        "def PhaseParityCheck(cir,AuxQubit):\n",
        "    #Storing the data in Q8,5,2\n",
        "    cir.cx(8,6)\n",
        "    cir.cx(8,7)\n",
        "    cir.cx(5,3)\n",
        "    cir.cx(5,4)\n",
        "    cir.cx(2,0)\n",
        "    cir.cx(2,1)\n",
        "    cir.h(2)\n",
        "    cir.h(5)\n",
        "    cir.h(8)\n",
        "    #Getting the parity stored in the Aux Qubits\n",
        "    cir.cx(2,AuxQubit)\n",
        "    cir.cx(5,AuxQubit)\n",
        "    cir.cx(5,AuxQubit+1)\n",
        "    cir.cx(8,AuxQubit+1)\n",
        "    #restoring the Encoded Form\n",
        "    cir.h(2)\n",
        "    cir.h(5)\n",
        "    cir.h(8)\n",
        "    cir.cx(8,6)\n",
        "    cir.cx(8,7)\n",
        "    cir.cx(5,3)\n",
        "    cir.cx(5,4)\n",
        "    cir.cx(2,0)\n",
        "    cir.cx(2,1)\n",
        "    return cir\n",
        "def PhaseCorrectionBlock(cir,AuxQubit):\n",
        "    cir.x(AuxQubit)\n",
        "    cir.ccz(AuxQubit+1,AuxQubit,8)\n",
        "    cir.x(AuxQubit)\n",
        "    cir.ccz(AuxQubit+1,AuxQubit,5)\n",
        "    cir.x(AuxQubit+1)\n",
        "    cir.ccz(AuxQubit+1,AuxQubit,2)\n",
        "    cir.x(AuxQubit+1)\n",
        "    cir.measure(AuxQubit,AuxQubit)\n",
        "    cir.measure(AuxQubit+1,AuxQubit+1)\n",
        "    cir.reset(AuxQubit)\n",
        "    cir.reset(AuxQubit+1)\n",
        "    return cir\n",
        "def PhaseErrorCorrection(cir,AuxQubit):\n",
        "    cir = PhaseParityCheck(cir,AuxQubit)\n",
        "    cir.barrier()\n",
        "    cir = PhaseCorrectionBlock(cir,AuxQubit)\n",
        "    return cir\n",
        "def BitNoise(cir,TarQubit,theta):\n",
        "    cir.rx(theta,TarQubit)\n",
        "    return cir\n",
        "def PhaseNoise(cir,TarQubit,theta):\n",
        "    cir.rz(theta,TarQubit)\n",
        "    return cir\n"
      ]
    },
    {
      "cell_type": "markdown",
      "source": [
        "5. Sending and Receiving Photons\n",
        "\n",
        "The primary functions for sending and receiving single photons and measuring their states.\n",
        "\n",
        "    Send Single Photon Function:\n",
        "        Purpose: Encodes, introduces noise, and sends a single photon.\n",
        "        Functionality: Executes encoding, noise application, error correction, and decoding operations.\n",
        "\n",
        "    Measure Single Photon Function:\n",
        "        Purpose: Measures the state of the received qubits.\n",
        "        Functionality: Utilizes a quantum simulator to measure the qubits' states and returns the measurement outcomes."
      ],
      "metadata": {
        "id": "KfA5BokyRpqV"
      },
      "id": "KfA5BokyRpqV"
    },
    {
      "cell_type": "code",
      "execution_count": null,
      "id": "6924f47e-bab1-4162-a9f6-9596a7538cb6",
      "metadata": {
        "tags": [],
        "id": "6924f47e-bab1-4162-a9f6-9596a7538cb6"
      },
      "outputs": [],
      "source": [
        "#A function that encodes The single qubit into a shor algorithm set of qubits and sends and meausere it on the otherside\n",
        "def SendSinglePhoton(cir):\n",
        "    cir = Encoding(cir)\n",
        "    cir = BitNoise(cir,8,0.9273)\n",
        "    cir.barrier()\n",
        "    cir = BitErrorCorrection(cir,9)\n",
        "    cir.barrier()\n",
        "    cir = Decoding(cir)\n",
        "    cir.barrier()\n",
        "    cir.measure([0,1,2,3,4,5,6,7,8,9,10],[0,1,2,3,4,5,6,7,8,9,10])\n",
        "    return cir\n",
        "def MeasureSinglePhoton(cir):\n",
        "    # Use Aer's qasm_simulator\n",
        "    simulator = Aer.get_backend('qasm_simulator')\n",
        "    # Execute the circuit on the qasm simulator\n",
        "    new_circuit = transpile(cir, simulator)\n",
        "    job = simulator.run(new_circuit)\n",
        "    # Grab results from the job\n",
        "    result = job.result()\n",
        "    # Return counts\n",
        "    counts = result.get_counts(cir)\n",
        "    return counts\n",
        "def SinglePhoton(sequence,length):\n",
        "    ListOfCounts = []\n",
        "    for i in range(length):\n",
        "        circuit = QuantumCircuit(11,11)\n",
        "        if sequence[i] == 1:\n",
        "            #encoding one bit into the 8th qubit of the shor circuit\n",
        "            circuit.x(8)\n",
        "        circuit = SendSinglePhoton(circuit)\n",
        "        counts = MeasureSinglePhoton(circuit)\n",
        "        ListOfCounts.append(counts)\n",
        "        del circuit\n",
        "    return ListOfCounts\n"
      ]
    },
    {
      "cell_type": "markdown",
      "source": [
        "6. Simulation Execution\n",
        "\n",
        "The simulation is executed by sending single photons based on a randomly generated bit sequence.\n",
        "\n",
        "    Single Photon Function:\n",
        "        Purpose: Simulates the transmission and reception of single photons.\n",
        "        Functionality: Iteratively sends single photons based on the input sequence and records measurement outcomes."
      ],
      "metadata": {
        "id": "UVXyIOYQRwKi"
      },
      "id": "UVXyIOYQRwKi"
    },
    {
      "cell_type": "code",
      "execution_count": null,
      "id": "9012deeb-4fbc-4e86-b55c-8ccff655b2c1",
      "metadata": {
        "tags": [],
        "id": "9012deeb-4fbc-4e86-b55c-8ccff655b2c1"
      },
      "outputs": [],
      "source": [
        "List = SinglePhoton(random_sequence,length)"
      ]
    },
    {
      "cell_type": "code",
      "execution_count": null,
      "id": "a36367ac-cf1a-4bf6-a1ba-8a3e76e1add6",
      "metadata": {
        "tags": [],
        "id": "a36367ac-cf1a-4bf6-a1ba-8a3e76e1add6",
        "outputId": "0c8d89fe-c9d8-4f71-b414-71cf5183088b"
      },
      "outputs": [
        {
          "name": "stdout",
          "output_type": "stream",
          "text": [
            "[{'00100000000': 1024}, {'00000000000': 1024}, {'00000000000': 1024}, {'00000000000': 1024}, {'00100000000': 1024}]\n"
          ]
        }
      ],
      "source": [
        "print(List)"
      ]
    },
    {
      "cell_type": "code",
      "execution_count": null,
      "id": "ce5b612c-f65d-49ef-8af3-2d290babc412",
      "metadata": {
        "tags": [],
        "id": "ce5b612c-f65d-49ef-8af3-2d290babc412",
        "outputId": "b89099ff-b79a-4f8a-f011-078ad5c956af"
      },
      "outputs": [
        {
          "name": "stdout",
          "output_type": "stream",
          "text": [
            "[{'1': 1024}, {'0': 1024}, {'0': 1024}, {'0': 1024}, {'1': 1024}]\n"
          ]
        }
      ],
      "source": [
        "result_list = []\n",
        "\n",
        "for item in List:\n",
        "    for key, value in item.items():\n",
        "        third_bit = key[2]  # Extract the 3rd bit of the key\n",
        "        result_list.append({third_bit: value})\n",
        "\n",
        "print(result_list)"
      ]
    },
    {
      "cell_type": "code",
      "execution_count": null,
      "id": "e776cd6e-f7eb-4256-bbf1-bfa2356c0a9d",
      "metadata": {
        "tags": [],
        "id": "e776cd6e-f7eb-4256-bbf1-bfa2356c0a9d",
        "outputId": "42103efe-116e-477d-8835-304a8fa10072"
      },
      "outputs": [
        {
          "data": {
            "image/png": "[encoded data removed]",
            "text/plain": [
              "<Figure size 700x500 with 1 Axes>"
            ]
          },
          "execution_count": 8,
          "metadata": {},
          "output_type": "execute_result"
        }
      ],
      "source": [
        "plot_histogram(result_list)"
      ]
    },
    {
      "cell_type": "code",
      "execution_count": null,
      "id": "6d07ff3f-0836-4b2e-b81e-7a42b16bd197",
      "metadata": {
        "id": "6d07ff3f-0836-4b2e-b81e-7a42b16bd197"
      },
      "outputs": [],
      "source": []
    }
  ],
  "metadata": {
    "kernelspec": {
      "display_name": "Qiskit v1.0.1 (ipykernel)",
      "language": "python",
      "name": "python3"
    },
    "language_info": {
      "codemirror_mode": {
        "name": "ipython",
        "version": 3
      },
      "file_extension": ".py",
      "mimetype": "text/x-python",
      "name": "python",
      "nbconvert_exporter": "python",
      "pygments_lexer": "ipython3",
      "version": "3.10.8"
    },
    "colab": {
      "provenance": []
    }
  },
  "nbformat": 4,
  "nbformat_minor": 5
}