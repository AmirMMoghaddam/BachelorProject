{
  "cells": [
    {
      "cell_type": "markdown",
      "id": "FyLzi_leLO57",
      "metadata": {
        "id": "FyLzi_leLO57"
      },
      "source": [
        "# BB84 Quantum Key Distribution Simulation Report\n",
        "Amir Mohammad Moghaddam 9823144\n",
        "# Introduction\n",
        "\n",
        "Quantum Key Distribution (QKD) is a revolutionary technique for secure communication by exploiting the principles of quantum mechanics. The BB84 protocol is a fundamental QKD method, ensuring secure key exchange between two parties. This report dissects the implementation of BB84 QKD in a simulation, detailing each block of the code along with its purpose and functionality.\n",
        "\n"
      ]
    },
    {
      "cell_type": "code",
      "source": [
        "pip install qiskit qiskit_aer"
      ],
      "metadata": {
        "id": "ffwCnhjGQCIA"
      },
      "id": "ffwCnhjGQCIA",
      "execution_count": null,
      "outputs": []
    },
    {
      "cell_type": "code",
      "execution_count": null,
      "id": "31f72d6b-4c07-4422-9773-529d8a72f81d",
      "metadata": {
        "id": "31f72d6b-4c07-4422-9773-529d8a72f81d"
      },
      "outputs": [],
      "source": [
        "from qiskit import QuantumRegister, ClassicalRegister, QuantumCircuit\n",
        "from qiskit.visualization import *\n",
        "from numpy import pi\n",
        "from qiskit_aer import Aer\n",
        "from qiskit import transpile\n",
        "import random"
      ]
    },
    {
      "cell_type": "code",
      "execution_count": null,
      "id": "1d2c217e-0930-4e4b-bd78-be45a3964077",
      "metadata": {
        "id": "1d2c217e-0930-4e4b-bd78-be45a3964077"
      },
      "outputs": [],
      "source": [
        "#defining all the ShorCodes function\n",
        "#This function uses one Logical qubit to encode 8 other qubits so that we can use it for bit and phase flip encoding\n",
        "def Encoding(cir):\n",
        "    # Phase- flip\n",
        "    cir.cx(8,5)\n",
        "    cir.cx(8,2)\n",
        "    cir.h(2)\n",
        "    cir.h(5)\n",
        "    cir.h(8)\n",
        "    #Bit-flip\n",
        "    cir.cx(8,6)\n",
        "    cir.cx(8,7)\n",
        "    cir.cx(5,3)\n",
        "    cir.cx(5,4)\n",
        "    cir.cx(2,0)\n",
        "    cir.cx(2,1)\n",
        "    return cir\n",
        "#This function Decodes the qubits so it can be used again\n",
        "def Decoding(cir):\n",
        "    #Bit-flip\n",
        "    cir.cx(8,6)\n",
        "    cir.cx(8,7)\n",
        "    cir.cx(5,3)\n",
        "    cir.cx(5,4)\n",
        "    cir.cx(2,0)\n",
        "    cir.cx(2,1)\n",
        "    #Phase-flip\n",
        "    cir.h(2)\n",
        "    cir.h(5)\n",
        "    cir.h(8)\n",
        "    cir.cx(8,5)\n",
        "    cir.cx(8,2)\n",
        "    return cir\n",
        "#Its time for bit flip for that we use a parity check function\n",
        "def BitParityCheck(cir,SQubit,AuxQubit):\n",
        "    cir.cx(SQubit,AuxQubit)\n",
        "    cir.cx(SQubit+1,AuxQubit)\n",
        "    cir.cx(SQubit+1,AuxQubit+1)\n",
        "    cir.cx(SQubit+2,AuxQubit+1)\n",
        "    return cir\n",
        "#And We need a CorrectionBlock\n",
        "def BitCorrectionBlock(cir,SQubit,AuxQubit):\n",
        "    cir.x(AuxQubit)\n",
        "    cir.ccx(AuxQubit+1,AuxQubit,SQubit+2)\n",
        "    cir.x(AuxQubit)\n",
        "    cir.ccx(AuxQubit+1,AuxQubit,SQubit+1)\n",
        "    cir.x(AuxQubit+1)\n",
        "    cir.ccx(AuxQubit+1,AuxQubit,SQubit)\n",
        "    cir.x(AuxQubit+1)\n",
        "    cir.measure(AuxQubit,AuxQubit)\n",
        "    cir.measure(AuxQubit+1,AuxQubit+1)\n",
        "    cir.reset(AuxQubit)\n",
        "    cir.reset(AuxQubit+1)\n",
        "    return cir\n",
        "#Now bringing it all toghether we construct the Error Correction function\n",
        "def BitErrorCorrection(cir,AuxQubit):\n",
        "    for i in range(3):\n",
        "        cir = BitParityCheck(cir,i*3,AuxQubit)\n",
        "        cir.barrier()\n",
        "        cir = BitCorrectionBlock(cir,i*3,AuxQubit)\n",
        "    return cir\n",
        "def PhaseParityCheck(cir,AuxQubit):\n",
        "    #Storing the data in Q8,5,2\n",
        "    cir.cx(8,6)\n",
        "    cir.cx(8,7)\n",
        "    cir.cx(5,3)\n",
        "    cir.cx(5,4)\n",
        "    cir.cx(2,0)\n",
        "    cir.cx(2,1)\n",
        "    cir.h(2)\n",
        "    cir.h(5)\n",
        "    cir.h(8)\n",
        "    #Getting the parity stored in the Aux Qubits\n",
        "    cir.cx(2,AuxQubit)\n",
        "    cir.cx(5,AuxQubit)\n",
        "    cir.cx(5,AuxQubit+1)\n",
        "    cir.cx(8,AuxQubit+1)\n",
        "    #restoring the Encoded Form\n",
        "    cir.h(2)\n",
        "    cir.h(5)\n",
        "    cir.h(8)\n",
        "    cir.cx(8,6)\n",
        "    cir.cx(8,7)\n",
        "    cir.cx(5,3)\n",
        "    cir.cx(5,4)\n",
        "    cir.cx(2,0)\n",
        "    cir.cx(2,1)\n",
        "    return cir\n",
        "def PhaseCorrectionBlock(cir,AuxQubit):\n",
        "    cir.x(AuxQubit)\n",
        "    cir.ccz(AuxQubit+1,AuxQubit,8)\n",
        "    cir.x(AuxQubit)\n",
        "    cir.ccz(AuxQubit+1,AuxQubit,5)\n",
        "    cir.x(AuxQubit+1)\n",
        "    cir.ccz(AuxQubit+1,AuxQubit,2)\n",
        "    cir.x(AuxQubit+1)\n",
        "    cir.measure(AuxQubit,AuxQubit)\n",
        "    cir.measure(AuxQubit+1,AuxQubit+1)\n",
        "    cir.reset(AuxQubit)\n",
        "    cir.reset(AuxQubit+1)\n",
        "    return cir\n",
        "def PhaseErrorCorrection(cir,AuxQubit):\n",
        "    cir = PhaseParityCheck(cir,AuxQubit)\n",
        "    cir.barrier()\n",
        "    cir = PhaseCorrectionBlock(cir,AuxQubit)\n",
        "    return cir\n",
        "def BitNoise(cir,TarQubit,theta):\n",
        "    cir.rx(theta,TarQubit)\n",
        "    return cir\n",
        "def PhaseNoise(cir,TarQubit,theta):\n",
        "    cir.rz(theta,TarQubit)\n",
        "    return cir"
      ]
    },
    {
      "cell_type": "code",
      "execution_count": null,
      "id": "14e32dd6-84b1-4a6b-aaf1-1f0c1d914013",
      "metadata": {
        "id": "14e32dd6-84b1-4a6b-aaf1-1f0c1d914013"
      },
      "outputs": [],
      "source": [
        "#Send Single Photon and Recieve and Measure\n",
        "def SendSinglePhoton(cir):\n",
        "    cir = Encoding(cir)\n",
        "    cir = BitNoise(cir,8,0.9273)\n",
        "    cir = BitErrorCorrection(cir,9)\n",
        "    return cir\n",
        "def MeasureSinglePhoton(cir):\n",
        "    # Use Aer's qasm_simulator\n",
        "    simulator = Aer.get_backend('qasm_simulator')\n",
        "    # Execute the circuit on the qasm simulator\n",
        "    new_circuit = transpile(cir, simulator)\n",
        "    job = simulator.run(new_circuit)\n",
        "    # Grab results from the job\n",
        "    result = job.result()\n",
        "    # Return counts\n",
        "    counts = result.get_counts(cir)\n",
        "    return counts\n",
        "#Encoding the Qubit with the given basis for it\n",
        "def GettingReady(cir,bit,basis):\n",
        "    if bit == 1:\n",
        "        cir.x(8)\n",
        "    if basis == 1:\n",
        "        cir.h(8)\n",
        "    return cir\n",
        "def ReciviengSinglePhoton(cir,BobBasis):\n",
        "    cir = Decoding(cir)\n",
        "    if BobBasis == 1:\n",
        "        cir.h(8)\n",
        "\n",
        "    cir.barrier()\n",
        "    cir.measure([0,1,2,3,4,5,6,7,8,9,10],[0,1,2,3,4,5,6,7,8,9,10])\n",
        "    return cir\n",
        "def BB84(sequence,AliceBases,BobBases,length):\n",
        "    ListOfCounts = []\n",
        "    for i in range(length):\n",
        "        circuit = QuantumCircuit(11,11)\n",
        "        circuit = GettingReady(circuit,sequence[i],AliceBases[i])\n",
        "        circuit = SendSinglePhoton(circuit)\n",
        "        circuit = ReciviengSinglePhoton(circuit,BobBases[i])\n",
        "        counts = MeasureSinglePhoton(circuit)\n",
        "        ListOfCounts.append(counts)\n",
        "        del circuit\n",
        "    #Now Alice and Bob share their Bases\n",
        "    Check_list = []\n",
        "    for i in range(len(ListOfCounts)):\n",
        "        if AliceBases[i] == BobBases[i]:\n",
        "            Check_list.append(ListOfCounts[i])\n",
        "    # Now we exctract the key out of the results\n",
        "    result_list = []\n",
        "    for item in Check_list:\n",
        "        for key, value in item.items():\n",
        "            third_bit = key[2]  # Extract the 3rd bit of the key\n",
        "            result_list.append({third_bit: value})\n",
        "    Key = ''\n",
        "    for item in result_list:\n",
        "        for key, value in item.items():\n",
        "            Key = Key + key\n",
        "    return Key\n",
        "def BB84withEve(sequence,AliceBases,BobBases,length):\n",
        "    ListOfCounts = []\n",
        "    EveBases = generate_random_sequence(length)\n",
        "    for i in range(length):\n",
        "        circuit = QuantumCircuit(11,11)\n",
        "        circuit = GettingReady(circuit,sequence[i],AliceBases[i])\n",
        "        circuit = SendSinglePhoton(circuit)\n",
        "        circuit = ReciviengSinglePhoton(circuit,EveBases)\n",
        "        counts = MeasureSinglePhoton(circuit)\n",
        "        ListOfCounts.append(counts)\n",
        "        del circuit\n",
        "    result_list = []\n",
        "    for item in ListOfCounts:\n",
        "        for key, value in item.items():\n",
        "            third_bit = key[2]  # Extract the 3rd bit of the key\n",
        "            result_list.append({third_bit: value})\n",
        "    EveKey = ''\n",
        "    for item in result_list:\n",
        "        for key, value in item.items():\n",
        "            EveKey = EveKey + key\n",
        "    list_from_Key = [int(char) for char in EveKey]\n",
        "    Key = BB84(list_from_Key,AliceBases,BobBases,length)\n",
        "    return Key\n",
        "def AliceKey(Bit,AliceBases,BobBases):\n",
        "    Check_list = []\n",
        "    for i in range(len(Bit)):\n",
        "        if AliceBases[i] == BobBases[i]:\n",
        "            Check_list.append(Bit[i])\n",
        "        Key = ''\n",
        "    for item in Check_list:\n",
        "        Key = Key + str(item)\n",
        "    return Key"
      ]
    },
    {
      "cell_type": "markdown",
      "id": "vBo629KQMl5o",
      "metadata": {
        "id": "vBo629KQMl5o"
      },
      "source": [
        "1. Encoding and Decoding Functions\n",
        "\n",
        "The encoding and decoding functions are crucial in preparing qubits for transmission and processing received qubits accurately.\n",
        "\n",
        "    GettingReady Function:\n",
        "        Purpose: Prepares a qubit for transmission based on the given bit and basis.\n",
        "        Functionality: Applies necessary operations (X gate for bit flip, H gate for basis encoding).\n",
        "\n",
        "    SendSinglePhoton Function:\n",
        "        Purpose: Simulates the transmission of a single photon.\n",
        "        Functionality: Incorporates encoding and noise introduction.\n",
        "\n",
        "    ReciviengSinglePhoton Function:\n",
        "        Purpose: Simulates the reception and measurement of a single photon by Bob.\n",
        "        Functionality: Decodes received qubits and performs measurements based on Bob's bases.\n",
        "\n",
        "2. Error Correction\n",
        "\n",
        "Error correction mechanisms are vital to ensure the reliability of the transmitted information.\n",
        "\n",
        "    BitNoise Function:\n",
        "        Purpose: Introduces partial bit flip noise to the qubits.\n",
        "        Functionality: Randomly applies X gates to introduce bit flip errors.\n",
        "\n",
        "    BitErrorCorrection Function:\n",
        "        Purpose: Implements error correction using the Shor code.\n",
        "        Functionality: Applies error correction operations based on the syndrome of the error.\n",
        "Certainly! Below is a breakdown of the code into individual block reports, along with an overall introduction and conclusion for your presentation.\n",
        "Introduction\n",
        "\n",
        "Quantum Key Distribution (QKD) is a revolutionary technique for secure communication by exploiting the principles of quantum mechanics. The BB84 protocol is a fundamental QKD method, ensuring secure key exchange between two parties. This report dissects the implementation of BB84 QKD in a simulation, detailing each block of the code along with its purpose and functionality.\n",
        "1. Encoding and Decoding Functions\n",
        "\n",
        "The encoding and decoding functions are crucial in preparing qubits for transmission and processing received qubits accurately.\n",
        "\n",
        "    GettingReady Function:\n",
        "        Purpose: Prepares a qubit for transmission based on the given bit and basis.\n",
        "        Functionality: Applies necessary operations (X gate for bit flip, H gate for basis encoding).\n",
        "\n",
        "    SendSinglePhoton Function:\n",
        "        Purpose: Simulates the transmission of a single photon.\n",
        "        Functionality: Incorporates encoding and noise introduction.\n",
        "\n",
        "    ReciviengSinglePhoton Function:\n",
        "        Purpose: Simulates the reception and measurement of a single photon by Bob.\n",
        "        Functionality: Decodes received qubits and performs measurements based on Bob's bases.\n",
        "\n",
        "2. Error Correction\n",
        "\n",
        "Error correction mechanisms are vital to ensure the reliability of the transmitted information.\n",
        "\n",
        "    BitNoise Function:\n",
        "        Purpose: Introduces partial bit flip noise to the qubits.\n",
        "        Functionality: Randomly applies X gates to introduce bit flip errors.\n",
        "\n",
        "    BitErrorCorrection and PhaseErrorCorrection Function:\n",
        "        Purpose: Implements error correction using the Shor code.\n",
        "        Functionality: Applies error correction operations based on the syndrome of the error.\n",
        "\n",
        "3. BB84 Protocol\n",
        "\n",
        "The BB84 protocol forms the core of the QKD simulation, enabling secure key generation between Alice and Bob.\n",
        "\n",
        "    BB84 Function:\n",
        "        Purpose: Executes the BB84 protocol between Alice and Bob.\n",
        "        Functionality: Utilizes encoding, transmission, reception, and error correction to generate a shared key.\n",
        "\n",
        "    BB84withEve Function:\n",
        "        Purpose: Extends BB84 to include an eavesdropper (Eve).\n",
        "        Functionality: Simulates Eve's interception and introduces potential security vulnerabilities."
      ]
    },
    {
      "cell_type": "code",
      "execution_count": null,
      "id": "1d867998-452b-49ec-888b-1e6d5b52b4b1",
      "metadata": {
        "id": "1d867998-452b-49ec-888b-1e6d5b52b4b1"
      },
      "outputs": [],
      "source": [
        "#A function for generating a random sequense\n",
        "def generate_random_sequence(length):\n",
        "    return [random.randint(0, 1) for _ in range(length)]\n",
        "#The length of the sequence\n",
        "length=64\n",
        "BitSequence= generate_random_sequence(length)\n",
        "AliceBases = generate_random_sequence(length)\n",
        "BobBases = generate_random_sequence(length)"
      ]
    },
    {
      "cell_type": "code",
      "execution_count": null,
      "id": "a1fe4423-e495-4afb-9441-343c7eca80d1",
      "metadata": {
        "id": "a1fe4423-e495-4afb-9441-343c7eca80d1"
      },
      "outputs": [],
      "source": [
        "Key = BB84(BitSequence,AliceBases,BobBases,length)"
      ]
    },
    {
      "cell_type": "code",
      "execution_count": null,
      "id": "48a24fac-5048-4065-9f9b-afcd55363b96",
      "metadata": {
        "id": "48a24fac-5048-4065-9f9b-afcd55363b96"
      },
      "outputs": [],
      "source": [
        "Alicekey = AliceKey(BitSequence,AliceBases,BobBases)"
      ]
    },
    {
      "cell_type": "code",
      "execution_count": null,
      "id": "6d461e54-5390-460c-b0fc-3c8ae28269a0",
      "metadata": {
        "colab": {
          "base_uri": "https://localhost:8080/"
        },
        "id": "6d461e54-5390-460c-b0fc-3c8ae28269a0",
        "outputId": "8f00a296-1ae6-4563-ba2f-58a05358432f"
      },
      "outputs": [
        {
          "output_type": "stream",
          "name": "stdout",
          "text": [
            "your Key is :\n",
            "0111110011001011010110001111000000\n",
            "with The length of :34\n"
          ]
        }
      ],
      "source": [
        "print(\"your Key is :\")\n",
        "print(Key)\n",
        "print(\"with The length of :\" + str(len(Key)))"
      ]
    },
    {
      "cell_type": "code",
      "execution_count": null,
      "id": "5c171ac0-ed55-4200-a188-96a135b9796b",
      "metadata": {
        "id": "5c171ac0-ed55-4200-a188-96a135b9796b"
      },
      "outputs": [],
      "source": [
        "#Alice And Bob Share Some of their Key to check the Seciruty\n",
        "def CheckSecurity(Key,Akey,Checklength):\n",
        "    if Akey[-Checklength:] == Key[-Checklength:]:\n",
        "        print(\"The Connection is Secure with the probability of:\")\n",
        "        print((1-((3/4)**Checklength))*100)\n",
        "    else:\n",
        "        print(\"The Connection is not Secure!\")"
      ]
    },
    {
      "cell_type": "code",
      "execution_count": null,
      "id": "a2abf479-a3c1-49d4-9d17-c933a00b68fb",
      "metadata": {
        "colab": {
          "base_uri": "https://localhost:8080/"
        },
        "id": "a2abf479-a3c1-49d4-9d17-c933a00b68fb",
        "outputId": "2a62e7b3-da6a-4ff7-e62e-e20a92a762ec"
      },
      "outputs": [
        {
          "output_type": "stream",
          "name": "stdout",
          "text": [
            "The Connection is Secure with the probability of:\n",
            "98.6636538989842\n"
          ]
        }
      ],
      "source": [
        "CheckSecurity(Key,Alicekey,15)"
      ]
    },
    {
      "cell_type": "markdown",
      "id": "vIvraC43NmX3",
      "metadata": {
        "id": "vIvraC43NmX3"
      },
      "source": [
        "4. Key Generation and Security Check\n",
        "\n",
        "Key generation and security assessment mechanisms ensure the integrity of the generated key.\n",
        "\n",
        "    AliceKey Function:\n",
        "        Purpose: Generates Alice's key based on matching bases with Bob.\n",
        "        Functionality: Extracts key bits based on agreed bases between Alice and Bob.\n",
        "\n",
        "    CheckSecurity Function:\n",
        "        Purpose: Checks the security of the generated key against Alice's key.\n",
        "        Functionality: Compares a portion of Alice's and Bob's keys to assess the probability of a secure connection."
      ]
    },
    {
      "cell_type": "code",
      "execution_count": null,
      "id": "4cb4c443-6e71-4058-9fb4-5eb939f1588a",
      "metadata": {
        "id": "4cb4c443-6e71-4058-9fb4-5eb939f1588a"
      },
      "outputs": [],
      "source": [
        "Key2 = BB84withEve(BitSequence,AliceBases,BobBases,length)"
      ]
    },
    {
      "cell_type": "code",
      "execution_count": null,
      "id": "f01b9c0c-5cd2-4022-a09b-6f7d722b8352",
      "metadata": {
        "colab": {
          "base_uri": "https://localhost:8080/"
        },
        "id": "f01b9c0c-5cd2-4022-a09b-6f7d722b8352",
        "outputId": "cc8ed552-5da6-4836-f7ca-a62e3d6e3c24"
      },
      "outputs": [
        {
          "name": "stdout",
          "output_type": "stream",
          "text": [
            "your Key is :\n",
            "10101110001001011011110100000111010\n",
            "with The length of :35\n"
          ]
        }
      ],
      "source": [
        "print(\"your Key is :\")\n",
        "print(Key2)\n",
        "print(\"with The length of :\" + str(len(Key2)))"
      ]
    },
    {
      "cell_type": "code",
      "execution_count": null,
      "id": "76db9c2e-557a-4594-b3d1-d6bb76655ab7",
      "metadata": {
        "colab": {
          "base_uri": "https://localhost:8080/"
        },
        "id": "76db9c2e-557a-4594-b3d1-d6bb76655ab7",
        "outputId": "1d9e77d4-d9d8-46ed-c33b-35b001379645"
      },
      "outputs": [
        {
          "name": "stdout",
          "output_type": "stream",
          "text": [
            "The Connection is not Secure!\n"
          ]
        }
      ],
      "source": [
        "CheckSecurity(Key2,Alicekey,15)"
      ]
    },
    {
      "cell_type": "code",
      "execution_count": null,
      "id": "HlSKhRFMLzdv",
      "metadata": {
        "id": "HlSKhRFMLzdv"
      },
      "outputs": [],
      "source": []
    }
  ],
  "metadata": {
    "colab": {
      "toc_visible": true,
      "provenance": []
    },
    "kernelspec": {
      "display_name": "Qiskit v1.0.1 (ipykernel)",
      "language": "python",
      "name": "python3"
    },
    "language_info": {
      "codemirror_mode": {
        "name": "ipython",
        "version": 3
      },
      "file_extension": ".py",
      "mimetype": "text/x-python",
      "name": "python",
      "nbconvert_exporter": "python",
      "pygments_lexer": "ipython3",
      "version": "3.10.8"
    }
  },
  "nbformat": 4,
  "nbformat_minor": 5
}